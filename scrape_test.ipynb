{
 "cells": [
  {
   "cell_type": "code",
   "execution_count": 1,
   "metadata": {
    "collapsed": false
   },
   "outputs": [],
   "source": [
    "import pandas as pd\n",
    "import numpy as np\n",
    "from random import sample\n",
    "from datetime import datetime"
   ]
  },
  {
   "cell_type": "code",
   "execution_count": 2,
   "metadata": {
    "collapsed": false
   },
   "outputs": [
    {
     "name": "stderr",
     "output_type": "stream",
     "text": [
      "/home/user/anaconda3/lib/python3.5/site-packages/IPython/core/interactiveshell.py:2902: DtypeWarning: Columns (8,9) have mixed types. Specify dtype option on import or set low_memory=False.\n",
      "  interactivity=interactivity, compiler=compiler, result=result)\n"
     ]
    }
   ],
   "source": [
    "path_name = \"/home/user/Projects/owascrp/Outputs/Merged/\"\n",
    "file_name = \"owa_merged_116_157.csv\"\n",
    "\n",
    "data_raw = pd.read_csv(path_name+file_name, delimiter=\";\")"
   ]
  },
  {
   "cell_type": "code",
   "execution_count": 3,
   "metadata": {
    "collapsed": false
   },
   "outputs": [
    {
     "data": {
      "text/html": [
       "<div>\n",
       "<table border=\"1\" class=\"dataframe\">\n",
       "  <thead>\n",
       "    <tr style=\"text-align: right;\">\n",
       "      <th></th>\n",
       "      <th>Unnamed: 0</th>\n",
       "      <th>Auction</th>\n",
       "      <th>Auction_Close</th>\n",
       "      <th>Auction_No</th>\n",
       "      <th>By</th>\n",
       "      <th>Color</th>\n",
       "      <th>Condition</th>\n",
       "      <th>Date</th>\n",
       "      <th>Date_High</th>\n",
       "      <th>Date_Low</th>\n",
       "      <th>...</th>\n",
       "      <th>Publication</th>\n",
       "      <th>Size</th>\n",
       "      <th>Size_Cm</th>\n",
       "      <th>Size_Cm_H</th>\n",
       "      <th>Size_Cm_W</th>\n",
       "      <th>Size_Inches</th>\n",
       "      <th>Sold_For</th>\n",
       "      <th>Subject</th>\n",
       "      <th>Text</th>\n",
       "      <th>Title</th>\n",
       "    </tr>\n",
       "  </thead>\n",
       "  <tbody>\n",
       "    <tr>\n",
       "      <th>0</th>\n",
       "      <td>0</td>\n",
       "      <td>116 -  9/20/2006</td>\n",
       "      <td>9/20/2006</td>\n",
       "      <td>116</td>\n",
       "      <td>Heinrich Bunting</td>\n",
       "      <td>hand color</td>\n",
       "      <td>B</td>\n",
       "      <td>1582</td>\n",
       "      <td>NaN</td>\n",
       "      <td>1582</td>\n",
       "      <td>...</td>\n",
       "      <td></td>\n",
       "      <td>7 x 11.7 inches 17.8 x 29.8 cm</td>\n",
       "      <td>17.8x29.8</td>\n",
       "      <td>29.8</td>\n",
       "      <td>17.8</td>\n",
       "      <td>7x11.7</td>\n",
       "      <td>600</td>\n",
       "      <td>Title Pages</td>\n",
       "      <td>\\n\\nTitle page from Bunting's \\nItinerarium Sa...</td>\n",
       "      <td>Lot #1: \"Itinerarium Sacrae Scripturae Das ist...</td>\n",
       "    </tr>\n",
       "    <tr>\n",
       "      <th>1</th>\n",
       "      <td>1</td>\n",
       "      <td>116 -  9/20/2006</td>\n",
       "      <td>9/20/2006</td>\n",
       "      <td>116</td>\n",
       "      <td></td>\n",
       "      <td>hand color</td>\n",
       "      <td></td>\n",
       "      <td>1595-1642</td>\n",
       "      <td>1642</td>\n",
       "      <td>1595</td>\n",
       "      <td>...</td>\n",
       "      <td></td>\n",
       "      <td>0 x 0 inches 0.0 x 0.0 cm</td>\n",
       "      <td>0.0x0.0</td>\n",
       "      <td>0.0</td>\n",
       "      <td>0.0</td>\n",
       "      <td>0x0</td>\n",
       "      <td>140</td>\n",
       "      <td>Title Pages</td>\n",
       "      <td>\\n\\n1)  This title page was for Johannes Blaeu...</td>\n",
       "      <td>Lot #2: \"[Lot of 2]\" \\n</td>\n",
       "    </tr>\n",
       "  </tbody>\n",
       "</table>\n",
       "<p>2 rows × 25 columns</p>\n",
       "</div>"
      ],
      "text/plain": [
       "   Unnamed: 0           Auction Auction_Close  Auction_No                 By  \\\n",
       "0           0  116 -  9/20/2006     9/20/2006         116   Heinrich Bunting   \n",
       "1           1  116 -  9/20/2006     9/20/2006         116                      \n",
       "\n",
       "         Color Condition         Date Date_High Date_Low  \\\n",
       "0   hand color      B      1582             NaN     1582   \n",
       "1   hand color             1595-1642       1642     1595   \n",
       "\n",
       "                         ...                         Publication  \\\n",
       "0                        ...                                       \n",
       "1                        ...                                       \n",
       "\n",
       "                               Size    Size_Cm Size_Cm_H  Size_Cm_W  \\\n",
       "0   7 x 11.7 inches 17.8 x 29.8 cm   17.8x29.8      29.8       17.8   \n",
       "1        0 x 0 inches 0.0 x 0.0 cm     0.0x0.0       0.0        0.0   \n",
       "\n",
       "  Size_Inches Sold_For       Subject  \\\n",
       "0      7x11.7      600   Title Pages   \n",
       "1         0x0      140   Title Pages   \n",
       "\n",
       "                                                Text  \\\n",
       "0  \\n\\nTitle page from Bunting's \\nItinerarium Sa...   \n",
       "1  \\n\\n1)  This title page was for Johannes Blaeu...   \n",
       "\n",
       "                                               Title  \n",
       "0  Lot #1: \"Itinerarium Sacrae Scripturae Das ist...  \n",
       "1                            Lot #2: \"[Lot of 2]\" \\n  \n",
       "\n",
       "[2 rows x 25 columns]"
      ]
     },
     "execution_count": 3,
     "metadata": {},
     "output_type": "execute_result"
    }
   ],
   "source": [
    "data_raw.head(2)"
   ]
  },
  {
   "cell_type": "code",
   "execution_count": 7,
   "metadata": {
    "collapsed": false
   },
   "outputs": [],
   "source": [
    "#data_raw[data_raw[\"Auction_No\"]==153.00].head(2)"
   ]
  },
  {
   "cell_type": "markdown",
   "metadata": {},
   "source": [
    "## Data Cleaning"
   ]
  },
  {
   "cell_type": "markdown",
   "metadata": {},
   "source": [
    "### Eliminating Missing"
   ]
  },
  {
   "cell_type": "code",
   "execution_count": 8,
   "metadata": {
    "collapsed": false
   },
   "outputs": [],
   "source": [
    " data_raw.rename(columns = {'Unnamed: 0':'Index'}, inplace = True)"
   ]
  },
  {
   "cell_type": "code",
   "execution_count": 9,
   "metadata": {
    "collapsed": false
   },
   "outputs": [
    {
     "name": "stdout",
     "output_type": "stream",
     "text": [
      "---- In total 34571 rows ------\n",
      "4 Null-Werte in Spalte Index\n",
      "32501 Null-Werte in Spalte Date_High\n",
      "3 Null-Werte in Spalte Date_Low\n",
      "4 Null-Werte in Spalte Estimate\n",
      "4 Null-Werte in Spalte Estimate_High\n",
      "4 Null-Werte in Spalte Estimate_Low\n",
      "4 Null-Werte in Spalte Image\n",
      "4 Null-Werte in Spalte Lot\n",
      "4 Null-Werte in Spalte Publication\n",
      "8 Null-Werte in Spalte Size\n",
      "8 Null-Werte in Spalte Size_Cm\n",
      "8 Null-Werte in Spalte Size_Cm_H\n",
      "8 Null-Werte in Spalte Size_Cm_W\n",
      "8 Null-Werte in Spalte Size_Inches\n",
      "8 Null-Werte in Spalte Sold_For\n",
      "8 Null-Werte in Spalte Subject\n",
      "8 Null-Werte in Spalte Text\n",
      "8 Null-Werte in Spalte Title\n"
     ]
    }
   ],
   "source": [
    "print('---- In total %i rows ------' % len(data_raw))\n",
    "for col in data_raw.columns:\n",
    "    if sum(pd.isnull(data_raw[col]))>0:\n",
    "      print(\"%i Null-Werte in Spalte %s\" %(sum(pd.isnull(data_raw[col])), col))"
   ]
  },
  {
   "cell_type": "code",
   "execution_count": 10,
   "metadata": {
    "collapsed": false
   },
   "outputs": [],
   "source": [
    "#data_raw[data_raw[\"Size\"].isnull()].head(2)"
   ]
  },
  {
   "cell_type": "code",
   "execution_count": 11,
   "metadata": {
    "collapsed": false
   },
   "outputs": [
    {
     "name": "stdout",
     "output_type": "stream",
     "text": [
      "---- In total 34563 rows ------\n"
     ]
    }
   ],
   "source": [
    "data_cleaner = data_raw[data_raw[\"Subject\"].notnull()]\n",
    "print('---- In total %i rows ------' % len(data_cleaner))"
   ]
  },
  {
   "cell_type": "code",
   "execution_count": 12,
   "metadata": {
    "collapsed": false
   },
   "outputs": [
    {
     "name": "stdout",
     "output_type": "stream",
     "text": [
      "---- In total 34560 rows ------\n"
     ]
    }
   ],
   "source": [
    "data_cleaner = data_cleaner[data_cleaner[\"Date_Low\"].notnull()]\n",
    "print('---- In total %i rows ------' % len(data_cleaner))"
   ]
  },
  {
   "cell_type": "code",
   "execution_count": 13,
   "metadata": {
    "collapsed": false
   },
   "outputs": [
    {
     "name": "stdout",
     "output_type": "stream",
     "text": [
      "---- In total 34560 rows ------\n",
      "32494 Null-Werte in Spalte Date_High\n"
     ]
    }
   ],
   "source": [
    "print('---- In total %i rows ------' % len(data_cleaner))\n",
    "for col in data_cleaner.columns:\n",
    "    if sum(pd.isnull(data_cleaner[col]))>0:\n",
    "      print(\"%i Null-Werte in Spalte %s\" %(sum(pd.isnull(data_cleaner[col])), col))"
   ]
  },
  {
   "cell_type": "markdown",
   "metadata": {},
   "source": [
    "## Replacing wrong entries"
   ]
  },
  {
   "cell_type": "code",
   "execution_count": 14,
   "metadata": {
    "collapsed": false
   },
   "outputs": [],
   "source": [
    "#data_cleaner.columns"
   ]
  },
  {
   "cell_type": "markdown",
   "metadata": {},
   "source": [
    "---- Correction of Auction Close Date ---- "
   ]
  },
  {
   "cell_type": "code",
   "execution_count": 15,
   "metadata": {
    "collapsed": false
   },
   "outputs": [],
   "source": [
    "#np.unique(data_cleaner[\"Index\"])\n",
    "#np.unique(data_cleaner[\"Auction\"])\n",
    "#np.unique(data_cleaner[\"Auction_No\"])\n",
    "#np.unique(data_cleaner[\"Auction_Close\"])"
   ]
  },
  {
   "cell_type": "code",
   "execution_count": 16,
   "metadata": {
    "collapsed": false
   },
   "outputs": [],
   "source": [
    "data_cleaner2 = data_cleaner\n",
    "def make_date (x):\n",
    "    return datetime.strptime(x, '%m/%d/%Y')\n",
    "data_cleaner2[\"Auction_Close\"]=data_cleaner2[\"Auction_Close\"].apply(make_date)"
   ]
  },
  {
   "cell_type": "code",
   "execution_count": 17,
   "metadata": {
    "collapsed": false
   },
   "outputs": [],
   "source": [
    "#np.unique(data_cleaner[\"Auction_Close\"])"
   ]
  },
  {
   "cell_type": "markdown",
   "metadata": {
    "collapsed": true
   },
   "source": [
    "----- Correction of Date_Low -----"
   ]
  },
  {
   "cell_type": "code",
   "execution_count": 18,
   "metadata": {
    "collapsed": false
   },
   "outputs": [],
   "source": [
    "#data_cleaner[data_cleaner[\"Date_Low\"]=='`926']\n",
    "#len(data_cleaner[data_cleaner[\"Date_Low\"]!='`926'])\n",
    "data_cleaner = data_cleaner[data_cleaner[\"Date_Low\"]!='`926']"
   ]
  },
  {
   "cell_type": "code",
   "execution_count": 19,
   "metadata": {
    "collapsed": false
   },
   "outputs": [],
   "source": [
    "#data_cleaner[data_cleaner[\"Date_Low\"] == 9999]"
   ]
  },
  {
   "cell_type": "code",
   "execution_count": 20,
   "metadata": {
    "collapsed": false
   },
   "outputs": [
    {
     "name": "stderr",
     "output_type": "stream",
     "text": [
      "/home/user/anaconda3/lib/python3.5/site-packages/ipykernel/__main__.py:7: SettingWithCopyWarning: \n",
      "A value is trying to be set on a copy of a slice from a DataFrame.\n",
      "Try using .loc[row_indexer,col_indexer] = value instead\n",
      "\n",
      "See the caveats in the documentation: http://pandas.pydata.org/pandas-docs/stable/indexing.html#indexing-view-versus-copy\n"
     ]
    }
   ],
   "source": [
    "def left_4 (x):\n",
    "    x = str(x)\n",
    "    if len(x[:4])>3: \n",
    "        return int(x[:4])\n",
    "    else:\n",
    "        return int(9999)\n",
    "data_cleaner[\"Date_Low\"]=data_cleaner[\"Date_Low\"].apply(left_4)\n",
    "#np.unique(data_cleaner[\"Date_Low\"])"
   ]
  },
  {
   "cell_type": "code",
   "execution_count": 21,
   "metadata": {
    "collapsed": false
   },
   "outputs": [],
   "source": [
    "#len(data_cleaner[data_cleaner[\"Date_Low\"]==9999])\n",
    "data_cleaner = data_cleaner[data_cleaner[\"Date_Low\"]!=9999]\n"
   ]
  },
  {
   "cell_type": "markdown",
   "metadata": {},
   "source": [
    "---- Correction of Condition ---- "
   ]
  },
  {
   "cell_type": "code",
   "execution_count": 22,
   "metadata": {
    "collapsed": false
   },
   "outputs": [
    {
     "data": {
      "text/plain": [
       "array([' ', '     ', ' +A  ', ' +B  ', ' +C  ', ' A   ', ' A + ', ' A+  ',\n",
       "       ' B   ', ' B+  ', ' C   ', ' C+  ', ' D   '], dtype=object)"
      ]
     },
     "execution_count": 22,
     "metadata": {},
     "output_type": "execute_result"
    }
   ],
   "source": [
    "np.unique(data_cleaner[\"Condition\"])"
   ]
  },
  {
   "cell_type": "code",
   "execution_count": 23,
   "metadata": {
    "collapsed": false,
    "scrolled": true
   },
   "outputs": [],
   "source": [
    "#data_cleaner[data_cleaner[\"Condition\"]== ' A + ']"
   ]
  },
  {
   "cell_type": "code",
   "execution_count": 24,
   "metadata": {
    "collapsed": false
   },
   "outputs": [],
   "source": [
    "#data_cleaner[data_cleaner[\"Condition\"]== ' +A  '].head(2)"
   ]
  },
  {
   "cell_type": "code",
   "execution_count": 25,
   "metadata": {
    "collapsed": false
   },
   "outputs": [
    {
     "data": {
      "text/html": [
       "<div>\n",
       "<table border=\"1\" class=\"dataframe\">\n",
       "  <thead>\n",
       "    <tr style=\"text-align: right;\">\n",
       "      <th></th>\n",
       "      <th>Index</th>\n",
       "      <th>Auction</th>\n",
       "      <th>Auction_Close</th>\n",
       "      <th>Auction_No</th>\n",
       "      <th>By</th>\n",
       "      <th>Color</th>\n",
       "      <th>Condition</th>\n",
       "      <th>Date</th>\n",
       "      <th>Date_High</th>\n",
       "      <th>Date_Low</th>\n",
       "      <th>...</th>\n",
       "      <th>Publication</th>\n",
       "      <th>Size</th>\n",
       "      <th>Size_Cm</th>\n",
       "      <th>Size_Cm_H</th>\n",
       "      <th>Size_Cm_W</th>\n",
       "      <th>Size_Inches</th>\n",
       "      <th>Sold_For</th>\n",
       "      <th>Subject</th>\n",
       "      <th>Text</th>\n",
       "      <th>Title</th>\n",
       "    </tr>\n",
       "  </thead>\n",
       "  <tbody>\n",
       "    <tr>\n",
       "      <th>8176</th>\n",
       "      <td>47</td>\n",
       "      <td>125 -  9/24/2008</td>\n",
       "      <td>2008-09-24</td>\n",
       "      <td>125</td>\n",
       "      <td>Scherer</td>\n",
       "      <td>hand color</td>\n",
       "      <td>A +</td>\n",
       "      <td>1703</td>\n",
       "      <td>NaN</td>\n",
       "      <td>1703</td>\n",
       "      <td>...</td>\n",
       "      <td>Atlas Novus</td>\n",
       "      <td>14 x 9 inches 35.6 x 22.9 cm</td>\n",
       "      <td>35.6x22.9</td>\n",
       "      <td>22.9</td>\n",
       "      <td>35.6</td>\n",
       "      <td>14x9</td>\n",
       "      <td>1500</td>\n",
       "      <td>World - Polar</td>\n",
       "      <td>\\n\\nThis very graphic map of the world is pres...</td>\n",
       "      <td>Lot #48: \"Repraesentatio Geographica Itineris ...</td>\n",
       "    </tr>\n",
       "  </tbody>\n",
       "</table>\n",
       "<p>1 rows × 25 columns</p>\n",
       "</div>"
      ],
      "text/plain": [
       "      Index           Auction Auction_Close  Auction_No        By  \\\n",
       "8176     47  125 -  9/24/2008    2008-09-24         125   Scherer   \n",
       "\n",
       "            Color Condition         Date Date_High  Date_Low  \\\n",
       "8176   hand color      A +    1703             NaN      1703   \n",
       "\n",
       "                            ...                            Publication  \\\n",
       "8176                        ...                           Atlas Novus\n",
       "   \n",
       "\n",
       "                                Size    Size_Cm Size_Cm_H  Size_Cm_W  \\\n",
       "8176   14 x 9 inches 35.6 x 22.9 cm   35.6x22.9      22.9       35.6   \n",
       "\n",
       "     Size_Inches Sold_For         Subject  \\\n",
       "8176        14x9     1500   World - Polar   \n",
       "\n",
       "                                                   Text  \\\n",
       "8176  \\n\\nThis very graphic map of the world is pres...   \n",
       "\n",
       "                                                  Title  \n",
       "8176  Lot #48: \"Repraesentatio Geographica Itineris ...  \n",
       "\n",
       "[1 rows x 25 columns]"
      ]
     },
     "execution_count": 25,
     "metadata": {},
     "output_type": "execute_result"
    }
   ],
   "source": [
    "data_cleaner[data_cleaner[\"Index\"] == 47][data_cleaner[data_cleaner[\"Index\"] == 47][\"Auction_No\"]== 125]"
   ]
  },
  {
   "cell_type": "code",
   "execution_count": 26,
   "metadata": {
    "collapsed": false
   },
   "outputs": [
    {
     "data": {
      "text/plain": [
       "array(['', '+A', '+B', '+C', 'A', 'A+', 'B', 'B+', 'C', 'C+', 'D'], dtype=object)"
      ]
     },
     "execution_count": 26,
     "metadata": {},
     "output_type": "execute_result"
    }
   ],
   "source": [
    "def cond_repair_1(x):\n",
    "    return x.replace(\" \", \"\")\n",
    "data_cleaner[\"Condition\"]=data_cleaner[\"Condition\"].apply(cond_repair_1)\n",
    "np.unique(data_cleaner[\"Condition\"])"
   ]
  },
  {
   "cell_type": "code",
   "execution_count": 27,
   "metadata": {
    "collapsed": false
   },
   "outputs": [],
   "source": [
    "def cond_repair_2(x):\n",
    "    if len(x)<1:\n",
    "        x='None'\n",
    "    else:\n",
    "        if x[0]=='+':\n",
    "            x=x[1]+x[0]\n",
    "    return x\n",
    "data_cleaner[\"Condition\"]=data_cleaner[\"Condition\"].apply(cond_repair_2)"
   ]
  },
  {
   "cell_type": "code",
   "execution_count": 28,
   "metadata": {
    "collapsed": false
   },
   "outputs": [],
   "source": [
    "#np.unique(data_cleaner[\"Condition\"])"
   ]
  },
  {
   "cell_type": "code",
   "execution_count": 29,
   "metadata": {
    "collapsed": false
   },
   "outputs": [
    {
     "data": {
      "text/plain": [
       "Index(['Index', 'Auction', 'Auction_Close', 'Auction_No', 'By', 'Color',\n",
       "       'Condition', 'Date', 'Date_High', 'Date_Low', 'Estimate',\n",
       "       'Estimate_High', 'Estimate_Low', 'Image', 'Lot', 'Publication', 'Size',\n",
       "       'Size_Cm', 'Size_Cm_H', 'Size_Cm_W', 'Size_Inches', 'Sold_For',\n",
       "       'Subject', 'Text', 'Title'],\n",
       "      dtype='object')"
      ]
     },
     "execution_count": 29,
     "metadata": {},
     "output_type": "execute_result"
    }
   ],
   "source": [
    "data_cleaner.columns"
   ]
  },
  {
   "cell_type": "markdown",
   "metadata": {},
   "source": [
    "--- Correction of Estimates and Sold_For -----"
   ]
  },
  {
   "cell_type": "code",
   "execution_count": 30,
   "metadata": {
    "collapsed": false
   },
   "outputs": [],
   "source": [
    "def to_int (x):\n",
    "    return int(x)\n",
    "data_cleaner[\"Estimate_High\"] =data_cleaner[\"Estimate_High\"].apply(to_int)"
   ]
  },
  {
   "cell_type": "code",
   "execution_count": 31,
   "metadata": {
    "collapsed": false
   },
   "outputs": [],
   "source": [
    "data_cleaner[\"Estimate_Low\"] =data_cleaner[\"Estimate_Low\"].apply(to_int)"
   ]
  },
  {
   "cell_type": "code",
   "execution_count": 32,
   "metadata": {
    "collapsed": false
   },
   "outputs": [],
   "source": [
    "data_cleaner[\"Sold_For\"] =data_cleaner[\"Sold_For\"].apply(to_int)\n"
   ]
  },
  {
   "cell_type": "markdown",
   "metadata": {},
   "source": [
    "----- Correction of Cartographers (By) -----"
   ]
  },
  {
   "cell_type": "code",
   "execution_count": 33,
   "metadata": {
    "collapsed": false
   },
   "outputs": [],
   "source": [
    "def clean_carto(x):\n",
    "    x = x.strip()\n",
    "    if x == '' or x == '[blank]':\n",
    "        x = 'Unknown'\n",
    "    return x\n",
    "data_cleaner[\"By\"] = data_cleaner[\"By\"].apply(clean_carto)\n",
    "#data_cleaner[ data_cleaner[\"By\"] == 'Unknown']"
   ]
  },
  {
   "cell_type": "code",
   "execution_count": 34,
   "metadata": {
    "collapsed": false
   },
   "outputs": [
    {
     "data": {
      "text/plain": [
       "1883"
      ]
     },
     "execution_count": 34,
     "metadata": {},
     "output_type": "execute_result"
    }
   ],
   "source": [
    "len(np.unique(data_cleaner[\"By\"]))"
   ]
  },
  {
   "cell_type": "code",
   "execution_count": 35,
   "metadata": {
    "collapsed": false
   },
   "outputs": [
    {
     "data": {
      "text/plain": [
       "array(['A. A. Grant', 'A. Anderson', 'A. Boschke', ...,\n",
       "       'jean Baptiste Poirson', 'le jeune Basset',\n",
       "       'Étienne Geoffroy St. Hilaire/Georges Cuvier'], dtype=object)"
      ]
     },
     "execution_count": 35,
     "metadata": {},
     "output_type": "execute_result"
    }
   ],
   "source": [
    "np.unique(data_cleaner[\"By\"])"
   ]
  },
  {
   "cell_type": "markdown",
   "metadata": {},
   "source": [
    "### Graphs and Analysis"
   ]
  },
  {
   "cell_type": "code",
   "execution_count": 39,
   "metadata": {
    "collapsed": false
   },
   "outputs": [
    {
     "data": {
      "text/html": [
       "<div>\n",
       "<table border=\"1\" class=\"dataframe\">\n",
       "  <thead>\n",
       "    <tr style=\"text-align: right;\">\n",
       "      <th></th>\n",
       "      <th>Index</th>\n",
       "      <th>Auction_No</th>\n",
       "      <th>Date_Low</th>\n",
       "      <th>Estimate_High</th>\n",
       "      <th>Estimate_Low</th>\n",
       "      <th>Lot</th>\n",
       "      <th>Size_Cm_H</th>\n",
       "      <th>Size_Cm_W</th>\n",
       "      <th>Sold_For</th>\n",
       "    </tr>\n",
       "  </thead>\n",
       "  <tbody>\n",
       "    <tr>\n",
       "      <th>count</th>\n",
       "      <td>34557.000000</td>\n",
       "      <td>34557.000000</td>\n",
       "      <td>34557.000000</td>\n",
       "      <td>34557.000000</td>\n",
       "      <td>34557.000000</td>\n",
       "      <td>34557.000000</td>\n",
       "      <td>34557.000000</td>\n",
       "      <td>34557.000000</td>\n",
       "      <td>34557.000000</td>\n",
       "    </tr>\n",
       "    <tr>\n",
       "      <th>mean</th>\n",
       "      <td>428.050149</td>\n",
       "      <td>135.391527</td>\n",
       "      <td>1744.683827</td>\n",
       "      <td>715.282577</td>\n",
       "      <td>572.502098</td>\n",
       "      <td>429.050149</td>\n",
       "      <td>31.910174</td>\n",
       "      <td>38.321388</td>\n",
       "      <td>-2044.960963</td>\n",
       "    </tr>\n",
       "    <tr>\n",
       "      <th>std</th>\n",
       "      <td>252.379831</td>\n",
       "      <td>11.993218</td>\n",
       "      <td>106.623170</td>\n",
       "      <td>1684.671711</td>\n",
       "      <td>1361.288388</td>\n",
       "      <td>252.379831</td>\n",
       "      <td>18.819407</td>\n",
       "      <td>23.494565</td>\n",
       "      <td>4573.601357</td>\n",
       "    </tr>\n",
       "    <tr>\n",
       "      <th>min</th>\n",
       "      <td>0.000000</td>\n",
       "      <td>116.000000</td>\n",
       "      <td>1250.000000</td>\n",
       "      <td>15.000000</td>\n",
       "      <td>10.000000</td>\n",
       "      <td>1.000000</td>\n",
       "      <td>0.000000</td>\n",
       "      <td>0.000000</td>\n",
       "      <td>-10000.000000</td>\n",
       "    </tr>\n",
       "    <tr>\n",
       "      <th>25%</th>\n",
       "      <td>210.000000</td>\n",
       "      <td>125.000000</td>\n",
       "      <td>1671.000000</td>\n",
       "      <td>200.000000</td>\n",
       "      <td>150.000000</td>\n",
       "      <td>211.000000</td>\n",
       "      <td>19.600000</td>\n",
       "      <td>22.900000</td>\n",
       "      <td>47.000000</td>\n",
       "    </tr>\n",
       "    <tr>\n",
       "      <th>50%</th>\n",
       "      <td>424.000000</td>\n",
       "      <td>135.000000</td>\n",
       "      <td>1750.000000</td>\n",
       "      <td>325.000000</td>\n",
       "      <td>250.000000</td>\n",
       "      <td>425.000000</td>\n",
       "      <td>30.500000</td>\n",
       "      <td>36.100000</td>\n",
       "      <td>150.000000</td>\n",
       "    </tr>\n",
       "    <tr>\n",
       "      <th>75%</th>\n",
       "      <td>640.000000</td>\n",
       "      <td>146.000000</td>\n",
       "      <td>1835.000000</td>\n",
       "      <td>600.000000</td>\n",
       "      <td>475.000000</td>\n",
       "      <td>641.000000</td>\n",
       "      <td>42.000000</td>\n",
       "      <td>50.800000</td>\n",
       "      <td>300.000000</td>\n",
       "    </tr>\n",
       "    <tr>\n",
       "      <th>max</th>\n",
       "      <td>994.000000</td>\n",
       "      <td>157.000000</td>\n",
       "      <td>2010.000000</td>\n",
       "      <td>90000.000000</td>\n",
       "      <td>70000.000000</td>\n",
       "      <td>995.000000</td>\n",
       "      <td>335.300000</td>\n",
       "      <td>469.900000</td>\n",
       "      <td>52500.000000</td>\n",
       "    </tr>\n",
       "  </tbody>\n",
       "</table>\n",
       "</div>"
      ],
      "text/plain": [
       "              Index    Auction_No      Date_Low  Estimate_High  Estimate_Low  \\\n",
       "count  34557.000000  34557.000000  34557.000000   34557.000000  34557.000000   \n",
       "mean     428.050149    135.391527   1744.683827     715.282577    572.502098   \n",
       "std      252.379831     11.993218    106.623170    1684.671711   1361.288388   \n",
       "min        0.000000    116.000000   1250.000000      15.000000     10.000000   \n",
       "25%      210.000000    125.000000   1671.000000     200.000000    150.000000   \n",
       "50%      424.000000    135.000000   1750.000000     325.000000    250.000000   \n",
       "75%      640.000000    146.000000   1835.000000     600.000000    475.000000   \n",
       "max      994.000000    157.000000   2010.000000   90000.000000  70000.000000   \n",
       "\n",
       "                Lot     Size_Cm_H     Size_Cm_W      Sold_For  \n",
       "count  34557.000000  34557.000000  34557.000000  34557.000000  \n",
       "mean     429.050149     31.910174     38.321388  -2044.960963  \n",
       "std      252.379831     18.819407     23.494565   4573.601357  \n",
       "min        1.000000      0.000000      0.000000 -10000.000000  \n",
       "25%      211.000000     19.600000     22.900000     47.000000  \n",
       "50%      425.000000     30.500000     36.100000    150.000000  \n",
       "75%      641.000000     42.000000     50.800000    300.000000  \n",
       "max      995.000000    335.300000    469.900000  52500.000000  "
      ]
     },
     "execution_count": 39,
     "metadata": {},
     "output_type": "execute_result"
    }
   ],
   "source": [
    "data_cleaner.describe()"
   ]
  },
  {
   "cell_type": "code",
   "execution_count": null,
   "metadata": {
    "collapsed": true
   },
   "outputs": [],
   "source": []
  },
  {
   "cell_type": "code",
   "execution_count": 37,
   "metadata": {
    "collapsed": false
   },
   "outputs": [
    {
     "data": {
      "text/plain": [
       "-0.12361775374100703"
      ]
     },
     "execution_count": 37,
     "metadata": {},
     "output_type": "execute_result"
    }
   ],
   "source": [
    "a = data_cleaner[data_cleaner[\"Sold_For\"]>0][\"Sold_For\"]\n",
    "b= data_cleaner[data_cleaner[\"Sold_For\"]>0][\"Date_Low\"]\n",
    "np.corrcoef(a, b)[0, 1]"
   ]
  },
  {
   "cell_type": "markdown",
   "metadata": {},
   "source": [
    "Fraction of Sales per Century"
   ]
  },
  {
   "cell_type": "code",
   "execution_count": 38,
   "metadata": {
    "collapsed": false
   },
   "outputs": [
    {
     "name": "stderr",
     "output_type": "stream",
     "text": [
      "/home/user/anaconda3/lib/python3.5/site-packages/ipykernel/__main__.py:20: SettingWithCopyWarning: \n",
      "A value is trying to be set on a copy of a slice from a DataFrame.\n",
      "Try using .loc[row_indexer,col_indexer] = value instead\n",
      "\n",
      "See the caveats in the documentation: http://pandas.pydata.org/pandas-docs/stable/indexing.html#indexing-view-versus-copy\n",
      "/home/user/anaconda3/lib/python3.5/site-packages/ipykernel/__main__.py:21: SettingWithCopyWarning: \n",
      "A value is trying to be set on a copy of a slice from a DataFrame.\n",
      "Try using .loc[row_indexer,col_indexer] = value instead\n",
      "\n",
      "See the caveats in the documentation: http://pandas.pydata.org/pandas-docs/stable/indexing.html#indexing-view-versus-copy\n",
      "/home/user/anaconda3/lib/python3.5/site-packages/ipykernel/__main__.py:22: SettingWithCopyWarning: \n",
      "A value is trying to be set on a copy of a slice from a DataFrame.\n",
      "Try using .loc[row_indexer,col_indexer] = value instead\n",
      "\n",
      "See the caveats in the documentation: http://pandas.pydata.org/pandas-docs/stable/indexing.html#indexing-view-versus-copy\n",
      "/home/user/anaconda3/lib/python3.5/site-packages/ipykernel/__main__.py:23: SettingWithCopyWarning: \n",
      "A value is trying to be set on a copy of a slice from a DataFrame.\n",
      "Try using .loc[row_indexer,col_indexer] = value instead\n",
      "\n",
      "See the caveats in the documentation: http://pandas.pydata.org/pandas-docs/stable/indexing.html#indexing-view-versus-copy\n",
      "/home/user/anaconda3/lib/python3.5/site-packages/ipykernel/__main__.py:24: FutureWarning: sort(columns=....) is deprecated, use sort_values(by=.....)\n"
     ]
    },
    {
     "data": {
      "text/html": [
       "<div>\n",
       "<table border=\"1\" class=\"dataframe\">\n",
       "  <thead>\n",
       "    <tr style=\"text-align: right;\">\n",
       "      <th></th>\n",
       "      <th>Auction_No</th>\n",
       "      <th>Date_Low</th>\n",
       "      <th>Sold_For</th>\n",
       "      <th>Century</th>\n",
       "      <th>Cnt</th>\n",
       "      <th>Sold</th>\n",
       "    </tr>\n",
       "  </thead>\n",
       "  <tbody>\n",
       "    <tr>\n",
       "      <th>889</th>\n",
       "      <td>116</td>\n",
       "      <td>1998</td>\n",
       "      <td>110</td>\n",
       "      <td>20th</td>\n",
       "      <td>1</td>\n",
       "      <td>1</td>\n",
       "    </tr>\n",
       "    <tr>\n",
       "      <th>900</th>\n",
       "      <td>116</td>\n",
       "      <td>1998</td>\n",
       "      <td>80</td>\n",
       "      <td>20th</td>\n",
       "      <td>1</td>\n",
       "      <td>1</td>\n",
       "    </tr>\n",
       "    <tr>\n",
       "      <th>890</th>\n",
       "      <td>116</td>\n",
       "      <td>1996</td>\n",
       "      <td>90</td>\n",
       "      <td>20th</td>\n",
       "      <td>1</td>\n",
       "      <td>1</td>\n",
       "    </tr>\n",
       "    <tr>\n",
       "      <th>899</th>\n",
       "      <td>116</td>\n",
       "      <td>1995</td>\n",
       "      <td>35</td>\n",
       "      <td>20th</td>\n",
       "      <td>1</td>\n",
       "      <td>1</td>\n",
       "    </tr>\n",
       "    <tr>\n",
       "      <th>898</th>\n",
       "      <td>116</td>\n",
       "      <td>1994</td>\n",
       "      <td>30</td>\n",
       "      <td>20th</td>\n",
       "      <td>1</td>\n",
       "      <td>1</td>\n",
       "    </tr>\n",
       "    <tr>\n",
       "      <th>896</th>\n",
       "      <td>116</td>\n",
       "      <td>1992</td>\n",
       "      <td>42</td>\n",
       "      <td>20th</td>\n",
       "      <td>1</td>\n",
       "      <td>1</td>\n",
       "    </tr>\n",
       "    <tr>\n",
       "      <th>895</th>\n",
       "      <td>116</td>\n",
       "      <td>1990</td>\n",
       "      <td>50</td>\n",
       "      <td>20th</td>\n",
       "      <td>1</td>\n",
       "      <td>1</td>\n",
       "    </tr>\n",
       "    <tr>\n",
       "      <th>894</th>\n",
       "      <td>116</td>\n",
       "      <td>1989</td>\n",
       "      <td>210</td>\n",
       "      <td>20th</td>\n",
       "      <td>1</td>\n",
       "      <td>1</td>\n",
       "    </tr>\n",
       "    <tr>\n",
       "      <th>893</th>\n",
       "      <td>116</td>\n",
       "      <td>1987</td>\n",
       "      <td>75</td>\n",
       "      <td>20th</td>\n",
       "      <td>1</td>\n",
       "      <td>1</td>\n",
       "    </tr>\n",
       "    <tr>\n",
       "      <th>547</th>\n",
       "      <td>116</td>\n",
       "      <td>1977</td>\n",
       "      <td>100</td>\n",
       "      <td>20th</td>\n",
       "      <td>1</td>\n",
       "      <td>1</td>\n",
       "    </tr>\n",
       "    <tr>\n",
       "      <th>892</th>\n",
       "      <td>116</td>\n",
       "      <td>1977</td>\n",
       "      <td>1100</td>\n",
       "      <td>20th</td>\n",
       "      <td>1</td>\n",
       "      <td>1</td>\n",
       "    </tr>\n",
       "    <tr>\n",
       "      <th>891</th>\n",
       "      <td>116</td>\n",
       "      <td>1960</td>\n",
       "      <td>800</td>\n",
       "      <td>20th</td>\n",
       "      <td>1</td>\n",
       "      <td>1</td>\n",
       "    </tr>\n",
       "    <tr>\n",
       "      <th>74</th>\n",
       "      <td>116</td>\n",
       "      <td>1950</td>\n",
       "      <td>60</td>\n",
       "      <td>20th</td>\n",
       "      <td>1</td>\n",
       "      <td>1</td>\n",
       "    </tr>\n",
       "    <tr>\n",
       "      <th>756</th>\n",
       "      <td>116</td>\n",
       "      <td>1945</td>\n",
       "      <td>100</td>\n",
       "      <td>20th</td>\n",
       "      <td>1</td>\n",
       "      <td>1</td>\n",
       "    </tr>\n",
       "    <tr>\n",
       "      <th>757</th>\n",
       "      <td>116</td>\n",
       "      <td>1945</td>\n",
       "      <td>110</td>\n",
       "      <td>20th</td>\n",
       "      <td>1</td>\n",
       "      <td>1</td>\n",
       "    </tr>\n",
       "    <tr>\n",
       "      <th>779</th>\n",
       "      <td>116</td>\n",
       "      <td>1944</td>\n",
       "      <td>110</td>\n",
       "      <td>20th</td>\n",
       "      <td>1</td>\n",
       "      <td>1</td>\n",
       "    </tr>\n",
       "    <tr>\n",
       "      <th>755</th>\n",
       "      <td>116</td>\n",
       "      <td>1943</td>\n",
       "      <td>160</td>\n",
       "      <td>20th</td>\n",
       "      <td>1</td>\n",
       "      <td>1</td>\n",
       "    </tr>\n",
       "    <tr>\n",
       "      <th>772</th>\n",
       "      <td>116</td>\n",
       "      <td>1943</td>\n",
       "      <td>110</td>\n",
       "      <td>20th</td>\n",
       "      <td>1</td>\n",
       "      <td>1</td>\n",
       "    </tr>\n",
       "    <tr>\n",
       "      <th>824</th>\n",
       "      <td>116</td>\n",
       "      <td>1940</td>\n",
       "      <td>150</td>\n",
       "      <td>20th</td>\n",
       "      <td>1</td>\n",
       "      <td>1</td>\n",
       "    </tr>\n",
       "    <tr>\n",
       "      <th>73</th>\n",
       "      <td>116</td>\n",
       "      <td>1937</td>\n",
       "      <td>800</td>\n",
       "      <td>20th</td>\n",
       "      <td>1</td>\n",
       "      <td>1</td>\n",
       "    </tr>\n",
       "    <tr>\n",
       "      <th>72</th>\n",
       "      <td>116</td>\n",
       "      <td>1931</td>\n",
       "      <td>350</td>\n",
       "      <td>20th</td>\n",
       "      <td>1</td>\n",
       "      <td>1</td>\n",
       "    </tr>\n",
       "    <tr>\n",
       "      <th>879</th>\n",
       "      <td>116</td>\n",
       "      <td>1930</td>\n",
       "      <td>140</td>\n",
       "      <td>20th</td>\n",
       "      <td>1</td>\n",
       "      <td>1</td>\n",
       "    </tr>\n",
       "    <tr>\n",
       "      <th>878</th>\n",
       "      <td>116</td>\n",
       "      <td>1926</td>\n",
       "      <td>180</td>\n",
       "      <td>20th</td>\n",
       "      <td>1</td>\n",
       "      <td>1</td>\n",
       "    </tr>\n",
       "    <tr>\n",
       "      <th>877</th>\n",
       "      <td>116</td>\n",
       "      <td>1922</td>\n",
       "      <td>1200</td>\n",
       "      <td>20th</td>\n",
       "      <td>1</td>\n",
       "      <td>1</td>\n",
       "    </tr>\n",
       "    <tr>\n",
       "      <th>42</th>\n",
       "      <td>116</td>\n",
       "      <td>1920</td>\n",
       "      <td>50</td>\n",
       "      <td>20th</td>\n",
       "      <td>1</td>\n",
       "      <td>1</td>\n",
       "    </tr>\n",
       "    <tr>\n",
       "      <th>876</th>\n",
       "      <td>116</td>\n",
       "      <td>1917</td>\n",
       "      <td>1300</td>\n",
       "      <td>20th</td>\n",
       "      <td>1</td>\n",
       "      <td>1</td>\n",
       "    </tr>\n",
       "    <tr>\n",
       "      <th>324</th>\n",
       "      <td>116</td>\n",
       "      <td>1915</td>\n",
       "      <td>4000</td>\n",
       "      <td>20th</td>\n",
       "      <td>1</td>\n",
       "      <td>1</td>\n",
       "    </tr>\n",
       "    <tr>\n",
       "      <th>422</th>\n",
       "      <td>116</td>\n",
       "      <td>1914</td>\n",
       "      <td>350</td>\n",
       "      <td>20th</td>\n",
       "      <td>1</td>\n",
       "      <td>1</td>\n",
       "    </tr>\n",
       "    <tr>\n",
       "      <th>146</th>\n",
       "      <td>116</td>\n",
       "      <td>1910</td>\n",
       "      <td>40</td>\n",
       "      <td>20th</td>\n",
       "      <td>1</td>\n",
       "      <td>1</td>\n",
       "    </tr>\n",
       "    <tr>\n",
       "      <th>246</th>\n",
       "      <td>116</td>\n",
       "      <td>1908</td>\n",
       "      <td>325</td>\n",
       "      <td>20th</td>\n",
       "      <td>1</td>\n",
       "      <td>1</td>\n",
       "    </tr>\n",
       "    <tr>\n",
       "      <th>...</th>\n",
       "      <td>...</td>\n",
       "      <td>...</td>\n",
       "      <td>...</td>\n",
       "      <td>...</td>\n",
       "      <td>...</td>\n",
       "      <td>...</td>\n",
       "    </tr>\n",
       "    <tr>\n",
       "      <th>34298</th>\n",
       "      <td>157</td>\n",
       "      <td>1559</td>\n",
       "      <td>130</td>\n",
       "      <td>16th</td>\n",
       "      <td>1</td>\n",
       "      <td>1</td>\n",
       "    </tr>\n",
       "    <tr>\n",
       "      <th>33771</th>\n",
       "      <td>157</td>\n",
       "      <td>1552</td>\n",
       "      <td>180</td>\n",
       "      <td>16th</td>\n",
       "      <td>1</td>\n",
       "      <td>1</td>\n",
       "    </tr>\n",
       "    <tr>\n",
       "      <th>33833</th>\n",
       "      <td>157</td>\n",
       "      <td>1552</td>\n",
       "      <td>850</td>\n",
       "      <td>16th</td>\n",
       "      <td>1</td>\n",
       "      <td>1</td>\n",
       "    </tr>\n",
       "    <tr>\n",
       "      <th>34208</th>\n",
       "      <td>157</td>\n",
       "      <td>1552</td>\n",
       "      <td>650</td>\n",
       "      <td>16th</td>\n",
       "      <td>1</td>\n",
       "      <td>1</td>\n",
       "    </tr>\n",
       "    <tr>\n",
       "      <th>34269</th>\n",
       "      <td>157</td>\n",
       "      <td>1552</td>\n",
       "      <td>90</td>\n",
       "      <td>16th</td>\n",
       "      <td>1</td>\n",
       "      <td>1</td>\n",
       "    </tr>\n",
       "    <tr>\n",
       "      <th>34288</th>\n",
       "      <td>157</td>\n",
       "      <td>1552</td>\n",
       "      <td>60</td>\n",
       "      <td>16th</td>\n",
       "      <td>1</td>\n",
       "      <td>1</td>\n",
       "    </tr>\n",
       "    <tr>\n",
       "      <th>34289</th>\n",
       "      <td>157</td>\n",
       "      <td>1552</td>\n",
       "      <td>200</td>\n",
       "      <td>16th</td>\n",
       "      <td>1</td>\n",
       "      <td>1</td>\n",
       "    </tr>\n",
       "    <tr>\n",
       "      <th>34309</th>\n",
       "      <td>157</td>\n",
       "      <td>1552</td>\n",
       "      <td>220</td>\n",
       "      <td>16th</td>\n",
       "      <td>1</td>\n",
       "      <td>1</td>\n",
       "    </tr>\n",
       "    <tr>\n",
       "      <th>34357</th>\n",
       "      <td>157</td>\n",
       "      <td>1552</td>\n",
       "      <td>325</td>\n",
       "      <td>16th</td>\n",
       "      <td>1</td>\n",
       "      <td>1</td>\n",
       "    </tr>\n",
       "    <tr>\n",
       "      <th>34385</th>\n",
       "      <td>157</td>\n",
       "      <td>1552</td>\n",
       "      <td>250</td>\n",
       "      <td>16th</td>\n",
       "      <td>1</td>\n",
       "      <td>1</td>\n",
       "    </tr>\n",
       "    <tr>\n",
       "      <th>34453</th>\n",
       "      <td>157</td>\n",
       "      <td>1552</td>\n",
       "      <td>100</td>\n",
       "      <td>16th</td>\n",
       "      <td>1</td>\n",
       "      <td>1</td>\n",
       "    </tr>\n",
       "    <tr>\n",
       "      <th>34511</th>\n",
       "      <td>157</td>\n",
       "      <td>1547</td>\n",
       "      <td>11500</td>\n",
       "      <td>16th</td>\n",
       "      <td>1</td>\n",
       "      <td>1</td>\n",
       "    </tr>\n",
       "    <tr>\n",
       "      <th>34264</th>\n",
       "      <td>157</td>\n",
       "      <td>1541</td>\n",
       "      <td>2100</td>\n",
       "      <td>16th</td>\n",
       "      <td>1</td>\n",
       "      <td>1</td>\n",
       "    </tr>\n",
       "    <tr>\n",
       "      <th>34302</th>\n",
       "      <td>157</td>\n",
       "      <td>1541</td>\n",
       "      <td>475</td>\n",
       "      <td>16th</td>\n",
       "      <td>1</td>\n",
       "      <td>1</td>\n",
       "    </tr>\n",
       "    <tr>\n",
       "      <th>34312</th>\n",
       "      <td>157</td>\n",
       "      <td>1541</td>\n",
       "      <td>475</td>\n",
       "      <td>16th</td>\n",
       "      <td>1</td>\n",
       "      <td>1</td>\n",
       "    </tr>\n",
       "    <tr>\n",
       "      <th>34326</th>\n",
       "      <td>157</td>\n",
       "      <td>1541</td>\n",
       "      <td>425</td>\n",
       "      <td>16th</td>\n",
       "      <td>1</td>\n",
       "      <td>1</td>\n",
       "    </tr>\n",
       "    <tr>\n",
       "      <th>34330</th>\n",
       "      <td>157</td>\n",
       "      <td>1541</td>\n",
       "      <td>425</td>\n",
       "      <td>16th</td>\n",
       "      <td>1</td>\n",
       "      <td>1</td>\n",
       "    </tr>\n",
       "    <tr>\n",
       "      <th>34373</th>\n",
       "      <td>157</td>\n",
       "      <td>1541</td>\n",
       "      <td>300</td>\n",
       "      <td>16th</td>\n",
       "      <td>1</td>\n",
       "      <td>1</td>\n",
       "    </tr>\n",
       "    <tr>\n",
       "      <th>34403</th>\n",
       "      <td>157</td>\n",
       "      <td>1541</td>\n",
       "      <td>850</td>\n",
       "      <td>16th</td>\n",
       "      <td>1</td>\n",
       "      <td>1</td>\n",
       "    </tr>\n",
       "    <tr>\n",
       "      <th>34405</th>\n",
       "      <td>157</td>\n",
       "      <td>1541</td>\n",
       "      <td>275</td>\n",
       "      <td>16th</td>\n",
       "      <td>1</td>\n",
       "      <td>1</td>\n",
       "    </tr>\n",
       "    <tr>\n",
       "      <th>34442</th>\n",
       "      <td>157</td>\n",
       "      <td>1541</td>\n",
       "      <td>550</td>\n",
       "      <td>16th</td>\n",
       "      <td>1</td>\n",
       "      <td>1</td>\n",
       "    </tr>\n",
       "    <tr>\n",
       "      <th>34445</th>\n",
       "      <td>157</td>\n",
       "      <td>1541</td>\n",
       "      <td>600</td>\n",
       "      <td>16th</td>\n",
       "      <td>1</td>\n",
       "      <td>1</td>\n",
       "    </tr>\n",
       "    <tr>\n",
       "      <th>34469</th>\n",
       "      <td>157</td>\n",
       "      <td>1541</td>\n",
       "      <td>300</td>\n",
       "      <td>16th</td>\n",
       "      <td>1</td>\n",
       "      <td>1</td>\n",
       "    </tr>\n",
       "    <tr>\n",
       "      <th>33779</th>\n",
       "      <td>157</td>\n",
       "      <td>1528</td>\n",
       "      <td>3000</td>\n",
       "      <td>16th</td>\n",
       "      <td>1</td>\n",
       "      <td>1</td>\n",
       "    </tr>\n",
       "    <tr>\n",
       "      <th>33830</th>\n",
       "      <td>157</td>\n",
       "      <td>1493</td>\n",
       "      <td>900</td>\n",
       "      <td>15th</td>\n",
       "      <td>1</td>\n",
       "      <td>1</td>\n",
       "    </tr>\n",
       "    <tr>\n",
       "      <th>34506</th>\n",
       "      <td>157</td>\n",
       "      <td>1493</td>\n",
       "      <td>50</td>\n",
       "      <td>15th</td>\n",
       "      <td>1</td>\n",
       "      <td>1</td>\n",
       "    </tr>\n",
       "    <tr>\n",
       "      <th>34507</th>\n",
       "      <td>157</td>\n",
       "      <td>1493</td>\n",
       "      <td>60</td>\n",
       "      <td>15th</td>\n",
       "      <td>1</td>\n",
       "      <td>1</td>\n",
       "    </tr>\n",
       "    <tr>\n",
       "      <th>34508</th>\n",
       "      <td>157</td>\n",
       "      <td>1493</td>\n",
       "      <td>55</td>\n",
       "      <td>15th</td>\n",
       "      <td>1</td>\n",
       "      <td>1</td>\n",
       "    </tr>\n",
       "    <tr>\n",
       "      <th>34509</th>\n",
       "      <td>157</td>\n",
       "      <td>1493</td>\n",
       "      <td>50</td>\n",
       "      <td>15th</td>\n",
       "      <td>1</td>\n",
       "      <td>1</td>\n",
       "    </tr>\n",
       "    <tr>\n",
       "      <th>34504</th>\n",
       "      <td>157</td>\n",
       "      <td>1470</td>\n",
       "      <td>80</td>\n",
       "      <td>15th</td>\n",
       "      <td>1</td>\n",
       "      <td>1</td>\n",
       "    </tr>\n",
       "  </tbody>\n",
       "</table>\n",
       "<p>26270 rows × 6 columns</p>\n",
       "</div>"
      ],
      "text/plain": [
       "       Auction_No  Date_Low  Sold_For Century  Cnt  Sold\n",
       "889           116      1998       110    20th    1     1\n",
       "900           116      1998        80    20th    1     1\n",
       "890           116      1996        90    20th    1     1\n",
       "899           116      1995        35    20th    1     1\n",
       "898           116      1994        30    20th    1     1\n",
       "896           116      1992        42    20th    1     1\n",
       "895           116      1990        50    20th    1     1\n",
       "894           116      1989       210    20th    1     1\n",
       "893           116      1987        75    20th    1     1\n",
       "547           116      1977       100    20th    1     1\n",
       "892           116      1977      1100    20th    1     1\n",
       "891           116      1960       800    20th    1     1\n",
       "74            116      1950        60    20th    1     1\n",
       "756           116      1945       100    20th    1     1\n",
       "757           116      1945       110    20th    1     1\n",
       "779           116      1944       110    20th    1     1\n",
       "755           116      1943       160    20th    1     1\n",
       "772           116      1943       110    20th    1     1\n",
       "824           116      1940       150    20th    1     1\n",
       "73            116      1937       800    20th    1     1\n",
       "72            116      1931       350    20th    1     1\n",
       "879           116      1930       140    20th    1     1\n",
       "878           116      1926       180    20th    1     1\n",
       "877           116      1922      1200    20th    1     1\n",
       "42            116      1920        50    20th    1     1\n",
       "876           116      1917      1300    20th    1     1\n",
       "324           116      1915      4000    20th    1     1\n",
       "422           116      1914       350    20th    1     1\n",
       "146           116      1910        40    20th    1     1\n",
       "246           116      1908       325    20th    1     1\n",
       "...           ...       ...       ...     ...  ...   ...\n",
       "34298         157      1559       130    16th    1     1\n",
       "33771         157      1552       180    16th    1     1\n",
       "33833         157      1552       850    16th    1     1\n",
       "34208         157      1552       650    16th    1     1\n",
       "34269         157      1552        90    16th    1     1\n",
       "34288         157      1552        60    16th    1     1\n",
       "34289         157      1552       200    16th    1     1\n",
       "34309         157      1552       220    16th    1     1\n",
       "34357         157      1552       325    16th    1     1\n",
       "34385         157      1552       250    16th    1     1\n",
       "34453         157      1552       100    16th    1     1\n",
       "34511         157      1547     11500    16th    1     1\n",
       "34264         157      1541      2100    16th    1     1\n",
       "34302         157      1541       475    16th    1     1\n",
       "34312         157      1541       475    16th    1     1\n",
       "34326         157      1541       425    16th    1     1\n",
       "34330         157      1541       425    16th    1     1\n",
       "34373         157      1541       300    16th    1     1\n",
       "34403         157      1541       850    16th    1     1\n",
       "34405         157      1541       275    16th    1     1\n",
       "34442         157      1541       550    16th    1     1\n",
       "34445         157      1541       600    16th    1     1\n",
       "34469         157      1541       300    16th    1     1\n",
       "33779         157      1528      3000    16th    1     1\n",
       "33830         157      1493       900    15th    1     1\n",
       "34506         157      1493        50    15th    1     1\n",
       "34507         157      1493        60    15th    1     1\n",
       "34508         157      1493        55    15th    1     1\n",
       "34509         157      1493        50    15th    1     1\n",
       "34504         157      1470        80    15th    1     1\n",
       "\n",
       "[26270 rows x 6 columns]"
      ]
     },
     "execution_count": 38,
     "metadata": {},
     "output_type": "execute_result"
    }
   ],
   "source": [
    "data_to_graph = data_cleaner[[\"Auction_No\", \"Date_Low\", \"Sold_For\"]]\n",
    "\n",
    "def data_century(x):\n",
    "    x = str(x+100)\n",
    "    x = x[0]+x[1]+'th'\n",
    "    return x\n",
    "\n",
    "def data_sold(y):\n",
    "    z= 0\n",
    "    if y > 0:\n",
    "        z= 1\n",
    "    return z\n",
    "\n",
    "def data_zero (a):\n",
    "    if a > 0:\n",
    "        return a\n",
    "    else:\n",
    "        return 0\n",
    "\n",
    "data_to_graph[\"Century\"] = data_to_graph[\"Date_Low\"].apply(data_century)\n",
    "data_to_graph[\"Cnt\"] = 1\n",
    "data_to_graph[\"Sold\"] = data_to_graph[\"Sold_For\"].apply(data_sold)\n",
    "data_to_graph[\"Sold_For\"] = data_to_graph[\"Sold_For\"].apply(data_zero)\n",
    "data_to_graph = data_to_graph[data_to_graph[\"Sold_For\"] > 0].sort(['Auction_No', 'Date_Low'], ascending=[1, 0])\n",
    "data_to_graph"
   ]
  },
  {
   "cell_type": "code",
   "execution_count": 110,
   "metadata": {
    "collapsed": false
   },
   "outputs": [
    {
     "data": {
      "text/html": [
       "<div>\n",
       "<table border=\"1\" class=\"dataframe\">\n",
       "  <thead>\n",
       "    <tr style=\"text-align: right;\">\n",
       "      <th></th>\n",
       "      <th>Auction_No</th>\n",
       "      <th>Sold_For</th>\n",
       "      <th>Cnt</th>\n",
       "      <th>Sold</th>\n",
       "    </tr>\n",
       "  </thead>\n",
       "  <tbody>\n",
       "    <tr>\n",
       "      <th>0</th>\n",
       "      <td>116</td>\n",
       "      <td>366.217536</td>\n",
       "      <td>901</td>\n",
       "      <td>0.855716</td>\n",
       "    </tr>\n",
       "    <tr>\n",
       "      <th>1</th>\n",
       "      <td>117</td>\n",
       "      <td>347.726872</td>\n",
       "      <td>908</td>\n",
       "      <td>0.822687</td>\n",
       "    </tr>\n",
       "  </tbody>\n",
       "</table>\n",
       "</div>"
      ],
      "text/plain": [
       "   Auction_No    Sold_For  Cnt      Sold\n",
       "0         116  366.217536  901  0.855716\n",
       "1         117  347.726872  908  0.822687"
      ]
     },
     "execution_count": 110,
     "metadata": {},
     "output_type": "execute_result"
    }
   ],
   "source": [
    "data_to_graph_group = data_to_graph.groupby(['Auction_No'], as_index=False)\n",
    "data_to_graph_group_2 = data_to_graph_group.agg({\"Sold\" : np.mean, \"Sold_For\" : np.mean, \"Cnt\" : np.sum})\n",
    "data_to_graph_group_2.head(2)"
   ]
  },
  {
   "cell_type": "code",
   "execution_count": 2,
   "metadata": {
    "collapsed": false
   },
   "outputs": [
    {
     "data": {
      "text/plain": [
       "'\\ndata_to_graph_2 = data_cleaner[[\"Sold_For\", \"By\"]]\\ndata_to_graph_2 = data_to_graph_2[data_to_graph_2[\"Sold_For\"] > 0]\\ndata_to_graph_2 = data_to_graph_2[data_to_graph_2[\"By\"] !=\\'\\']\\ndata_to_graph_group_3 = data_to_graph_2.groupby([\\'By\\'], as_index=False)\\ndata_to_graph_group_3.size()\\n'"
      ]
     },
     "execution_count": 2,
     "metadata": {},
     "output_type": "execute_result"
    }
   ],
   "source": [
    "\"\"\"\n",
    "data_to_graph_2 = data_cleaner[[\"Sold_For\", \"By\"]]\n",
    "data_to_graph_2 = data_to_graph_2[data_to_graph_2[\"Sold_For\"] > 0]\n",
    "data_to_graph_2 = data_to_graph_2[data_to_graph_2[\"By\"] !='']\n",
    "data_to_graph_group_3 = data_to_graph_2.groupby(['By'], as_index=False)\n",
    "data_to_graph_group_3.size()\n",
    "\"\"\""
   ]
  },
  {
   "cell_type": "code",
   "execution_count": 112,
   "metadata": {
    "collapsed": false
   },
   "outputs": [
    {
     "name": "stderr",
     "output_type": "stream",
     "text": [
      "/home/user/anaconda3/lib/python3.5/site-packages/bokeh/charts/_attributes.py:78: FutureWarning: sort(columns=....) is deprecated, use sort_values(by=.....)\n",
      "  df = df.sort(columns=columns)\n"
     ]
    }
   ],
   "source": [
    "\"\"\"from bokeh.charts import Bar, output_file, show, hplot\n",
    "\n",
    "#Bar Plots of sell rate and avg price\n",
    "s1 = Bar(data_to_graph_group_2, label='Auction_No', values='Sold',  title=\"Sell Rate\", ylabel=\"Sell Rate\")\n",
    "s2 = Bar(data_to_graph_group_2, label='Auction_No', values='Sold_For', title=\"Avg Price\",color=\"navy\", \n",
    "        ylabel=\"Avg Price\")\n",
    "\n",
    "output_file(\"test_owa_stacked_bar.html\")\n",
    "\n",
    "# put all the plots in an HBox\n",
    "p = hplot(s1, s2)\n",
    "\n",
    "# show the results\n",
    "show(p)\n",
    "\n",
    "\"\"\"\n",
    "\n",
    "\n"
   ]
  },
  {
   "cell_type": "code",
   "execution_count": null,
   "metadata": {
    "collapsed": true
   },
   "outputs": [],
   "source": []
  }
 ],
 "metadata": {
  "kernelspec": {
   "display_name": "Python 3",
   "language": "python",
   "name": "python3"
  },
  "language_info": {
   "codemirror_mode": {
    "name": "ipython",
    "version": 3
   },
   "file_extension": ".py",
   "mimetype": "text/x-python",
   "name": "python",
   "nbconvert_exporter": "python",
   "pygments_lexer": "ipython3",
   "version": "3.5.1"
  }
 },
 "nbformat": 4,
 "nbformat_minor": 0
}
