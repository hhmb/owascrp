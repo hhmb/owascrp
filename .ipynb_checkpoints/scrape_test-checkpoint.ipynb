{
 "cells": [
  {
   "cell_type": "code",
   "execution_count": 1,
   "metadata": {
    "collapsed": false
   },
   "outputs": [],
   "source": [
    "import pandas as pd\n",
    "import numpy as np\n",
    "from random import sample\n",
    "from datetime import datetime"
   ]
  },
  {
   "cell_type": "code",
   "execution_count": 2,
   "metadata": {
    "collapsed": false
   },
   "outputs": [
    {
     "name": "stderr",
     "output_type": "stream",
     "text": [
      "/home/user/anaconda3/lib/python3.5/site-packages/IPython/core/interactiveshell.py:2902: DtypeWarning: Columns (8,9) have mixed types. Specify dtype option on import or set low_memory=False.\n",
      "  interactivity=interactivity, compiler=compiler, result=result)\n"
     ]
    }
   ],
   "source": [
    "path_name = \"/home/user/Projects/owascrp/Outputs/Merged/\"\n",
    "file_name = \"owa_merged_116_157.csv\"\n",
    "\n",
    "data_raw = pd.read_csv(path_name+file_name, delimiter=\";\")"
   ]
  },
  {
   "cell_type": "code",
   "execution_count": 3,
   "metadata": {
    "collapsed": false
   },
   "outputs": [
    {
     "data": {
      "text/html": [
       "<div>\n",
       "<table border=\"1\" class=\"dataframe\">\n",
       "  <thead>\n",
       "    <tr style=\"text-align: right;\">\n",
       "      <th></th>\n",
       "      <th>Unnamed: 0</th>\n",
       "      <th>Auction</th>\n",
       "      <th>Auction_Close</th>\n",
       "      <th>Auction_No</th>\n",
       "      <th>By</th>\n",
       "      <th>Color</th>\n",
       "      <th>Condition</th>\n",
       "      <th>Date</th>\n",
       "      <th>Date_High</th>\n",
       "      <th>Date_Low</th>\n",
       "      <th>...</th>\n",
       "      <th>Publication</th>\n",
       "      <th>Size</th>\n",
       "      <th>Size_Cm</th>\n",
       "      <th>Size_Cm_H</th>\n",
       "      <th>Size_Cm_W</th>\n",
       "      <th>Size_Inches</th>\n",
       "      <th>Sold_For</th>\n",
       "      <th>Subject</th>\n",
       "      <th>Text</th>\n",
       "      <th>Title</th>\n",
       "    </tr>\n",
       "  </thead>\n",
       "  <tbody>\n",
       "    <tr>\n",
       "      <th>0</th>\n",
       "      <td>0</td>\n",
       "      <td>116 -  9/20/2006</td>\n",
       "      <td>9/20/2006</td>\n",
       "      <td>116</td>\n",
       "      <td>Heinrich Bunting</td>\n",
       "      <td>hand color</td>\n",
       "      <td>B</td>\n",
       "      <td>1582</td>\n",
       "      <td>NaN</td>\n",
       "      <td>1582</td>\n",
       "      <td>...</td>\n",
       "      <td></td>\n",
       "      <td>7 x 11.7 inches 17.8 x 29.8 cm</td>\n",
       "      <td>17.8x29.8</td>\n",
       "      <td>29.8</td>\n",
       "      <td>17.8</td>\n",
       "      <td>7x11.7</td>\n",
       "      <td>600</td>\n",
       "      <td>Title Pages</td>\n",
       "      <td>\\n\\nTitle page from Bunting's \\nItinerarium Sa...</td>\n",
       "      <td>Lot #1: \"Itinerarium Sacrae Scripturae Das ist...</td>\n",
       "    </tr>\n",
       "    <tr>\n",
       "      <th>1</th>\n",
       "      <td>1</td>\n",
       "      <td>116 -  9/20/2006</td>\n",
       "      <td>9/20/2006</td>\n",
       "      <td>116</td>\n",
       "      <td></td>\n",
       "      <td>hand color</td>\n",
       "      <td></td>\n",
       "      <td>1595-1642</td>\n",
       "      <td>1642</td>\n",
       "      <td>1595</td>\n",
       "      <td>...</td>\n",
       "      <td></td>\n",
       "      <td>0 x 0 inches 0.0 x 0.0 cm</td>\n",
       "      <td>0.0x0.0</td>\n",
       "      <td>0.0</td>\n",
       "      <td>0.0</td>\n",
       "      <td>0x0</td>\n",
       "      <td>140</td>\n",
       "      <td>Title Pages</td>\n",
       "      <td>\\n\\n1)  This title page was for Johannes Blaeu...</td>\n",
       "      <td>Lot #2: \"[Lot of 2]\" \\n</td>\n",
       "    </tr>\n",
       "  </tbody>\n",
       "</table>\n",
       "<p>2 rows × 25 columns</p>\n",
       "</div>"
      ],
      "text/plain": [
       "   Unnamed: 0           Auction Auction_Close  Auction_No                 By  \\\n",
       "0           0  116 -  9/20/2006     9/20/2006         116   Heinrich Bunting   \n",
       "1           1  116 -  9/20/2006     9/20/2006         116                      \n",
       "\n",
       "         Color Condition         Date Date_High Date_Low  \\\n",
       "0   hand color      B      1582             NaN     1582   \n",
       "1   hand color             1595-1642       1642     1595   \n",
       "\n",
       "                         ...                         Publication  \\\n",
       "0                        ...                                       \n",
       "1                        ...                                       \n",
       "\n",
       "                               Size    Size_Cm Size_Cm_H  Size_Cm_W  \\\n",
       "0   7 x 11.7 inches 17.8 x 29.8 cm   17.8x29.8      29.8       17.8   \n",
       "1        0 x 0 inches 0.0 x 0.0 cm     0.0x0.0       0.0        0.0   \n",
       "\n",
       "  Size_Inches Sold_For       Subject  \\\n",
       "0      7x11.7      600   Title Pages   \n",
       "1         0x0      140   Title Pages   \n",
       "\n",
       "                                                Text  \\\n",
       "0  \\n\\nTitle page from Bunting's \\nItinerarium Sa...   \n",
       "1  \\n\\n1)  This title page was for Johannes Blaeu...   \n",
       "\n",
       "                                               Title  \n",
       "0  Lot #1: \"Itinerarium Sacrae Scripturae Das ist...  \n",
       "1                            Lot #2: \"[Lot of 2]\" \\n  \n",
       "\n",
       "[2 rows x 25 columns]"
      ]
     },
     "execution_count": 3,
     "metadata": {},
     "output_type": "execute_result"
    }
   ],
   "source": [
    "data_raw.head(2)"
   ]
  },
  {
   "cell_type": "code",
   "execution_count": 4,
   "metadata": {
    "collapsed": false
   },
   "outputs": [],
   "source": [
    "#data_raw[data_raw[\"Auction_No\"]==153.00].head(2)"
   ]
  },
  {
   "cell_type": "markdown",
   "metadata": {},
   "source": [
    "## Data Cleaning"
   ]
  },
  {
   "cell_type": "markdown",
   "metadata": {},
   "source": [
    "### Eliminating Missing"
   ]
  },
  {
   "cell_type": "code",
   "execution_count": 5,
   "metadata": {
    "collapsed": false
   },
   "outputs": [],
   "source": [
    " data_raw.rename(columns = {'Unnamed: 0':'Index'}, inplace = True)"
   ]
  },
  {
   "cell_type": "code",
   "execution_count": 6,
   "metadata": {
    "collapsed": false
   },
   "outputs": [
    {
     "name": "stdout",
     "output_type": "stream",
     "text": [
      "---- In total 34571 rows ------\n",
      "4 Null-Werte in Spalte Index\n",
      "32501 Null-Werte in Spalte Date_High\n",
      "3 Null-Werte in Spalte Date_Low\n",
      "4 Null-Werte in Spalte Estimate\n",
      "4 Null-Werte in Spalte Estimate_High\n",
      "4 Null-Werte in Spalte Estimate_Low\n",
      "4 Null-Werte in Spalte Image\n",
      "4 Null-Werte in Spalte Lot\n",
      "4 Null-Werte in Spalte Publication\n",
      "8 Null-Werte in Spalte Size\n",
      "8 Null-Werte in Spalte Size_Cm\n",
      "8 Null-Werte in Spalte Size_Cm_H\n",
      "8 Null-Werte in Spalte Size_Cm_W\n",
      "8 Null-Werte in Spalte Size_Inches\n",
      "8 Null-Werte in Spalte Sold_For\n",
      "8 Null-Werte in Spalte Subject\n",
      "8 Null-Werte in Spalte Text\n",
      "8 Null-Werte in Spalte Title\n"
     ]
    }
   ],
   "source": [
    "print('---- In total %i rows ------' % len(data_raw))\n",
    "for col in data_raw.columns:\n",
    "    if sum(pd.isnull(data_raw[col]))>0:\n",
    "      print(\"%i Null-Werte in Spalte %s\" %(sum(pd.isnull(data_raw[col])), col))"
   ]
  },
  {
   "cell_type": "code",
   "execution_count": 7,
   "metadata": {
    "collapsed": false
   },
   "outputs": [],
   "source": [
    "#data_raw[data_raw[\"Size\"].isnull()].head(2)"
   ]
  },
  {
   "cell_type": "code",
   "execution_count": 8,
   "metadata": {
    "collapsed": false
   },
   "outputs": [
    {
     "name": "stdout",
     "output_type": "stream",
     "text": [
      "---- In total 34563 rows ------\n"
     ]
    }
   ],
   "source": [
    "data_cleaner = data_raw[data_raw[\"Subject\"].notnull()]\n",
    "print('---- In total %i rows ------' % len(data_cleaner))"
   ]
  },
  {
   "cell_type": "code",
   "execution_count": 9,
   "metadata": {
    "collapsed": false
   },
   "outputs": [
    {
     "name": "stdout",
     "output_type": "stream",
     "text": [
      "---- In total 34560 rows ------\n"
     ]
    }
   ],
   "source": [
    "data_cleaner = data_cleaner[data_cleaner[\"Date_Low\"].notnull()]\n",
    "print('---- In total %i rows ------' % len(data_cleaner))"
   ]
  },
  {
   "cell_type": "code",
   "execution_count": 10,
   "metadata": {
    "collapsed": false
   },
   "outputs": [
    {
     "name": "stdout",
     "output_type": "stream",
     "text": [
      "---- In total 34560 rows ------\n",
      "32494 Null-Werte in Spalte Date_High\n"
     ]
    }
   ],
   "source": [
    "print('---- In total %i rows ------' % len(data_cleaner))\n",
    "for col in data_cleaner.columns:\n",
    "    if sum(pd.isnull(data_cleaner[col]))>0:\n",
    "      print(\"%i Null-Werte in Spalte %s\" %(sum(pd.isnull(data_cleaner[col])), col))"
   ]
  },
  {
   "cell_type": "markdown",
   "metadata": {},
   "source": [
    "## Replacing wrong entries"
   ]
  },
  {
   "cell_type": "code",
   "execution_count": 11,
   "metadata": {
    "collapsed": false
   },
   "outputs": [],
   "source": [
    "#data_cleaner.columns"
   ]
  },
  {
   "cell_type": "markdown",
   "metadata": {},
   "source": [
    "---- Correction of Auction Close Date ---- "
   ]
  },
  {
   "cell_type": "code",
   "execution_count": 12,
   "metadata": {
    "collapsed": false
   },
   "outputs": [],
   "source": [
    "#np.unique(data_cleaner[\"Index\"])\n",
    "#np.unique(data_cleaner[\"Auction\"])\n",
    "#np.unique(data_cleaner[\"Auction_No\"])\n",
    "#np.unique(data_cleaner[\"Auction_Close\"])"
   ]
  },
  {
   "cell_type": "code",
   "execution_count": 13,
   "metadata": {
    "collapsed": false
   },
   "outputs": [],
   "source": [
    "data_cleaner2 = data_cleaner\n",
    "def make_date (x):\n",
    "    return datetime.strptime(x, '%m/%d/%Y')\n",
    "data_cleaner2[\"Auction_Close\"]=data_cleaner2[\"Auction_Close\"].apply(make_date)"
   ]
  },
  {
   "cell_type": "code",
   "execution_count": 14,
   "metadata": {
    "collapsed": false
   },
   "outputs": [],
   "source": [
    "#np.unique(data_cleaner[\"Auction_Close\"])"
   ]
  },
  {
   "cell_type": "markdown",
   "metadata": {
    "collapsed": true
   },
   "source": [
    "----- Correction of Date_Low -----"
   ]
  },
  {
   "cell_type": "code",
   "execution_count": 15,
   "metadata": {
    "collapsed": false
   },
   "outputs": [],
   "source": [
    "#data_cleaner[data_cleaner[\"Date_Low\"]=='`926']\n",
    "#len(data_cleaner[data_cleaner[\"Date_Low\"]!='`926'])\n",
    "data_cleaner = data_cleaner[data_cleaner[\"Date_Low\"]!='`926']"
   ]
  },
  {
   "cell_type": "code",
   "execution_count": 16,
   "metadata": {
    "collapsed": false
   },
   "outputs": [],
   "source": [
    "#data_cleaner[data_cleaner[\"Date_Low\"] == 9999]"
   ]
  },
  {
   "cell_type": "code",
   "execution_count": 17,
   "metadata": {
    "collapsed": false
   },
   "outputs": [
    {
     "name": "stderr",
     "output_type": "stream",
     "text": [
      "/home/user/anaconda3/lib/python3.5/site-packages/ipykernel/__main__.py:7: SettingWithCopyWarning: \n",
      "A value is trying to be set on a copy of a slice from a DataFrame.\n",
      "Try using .loc[row_indexer,col_indexer] = value instead\n",
      "\n",
      "See the caveats in the documentation: http://pandas.pydata.org/pandas-docs/stable/indexing.html#indexing-view-versus-copy\n"
     ]
    }
   ],
   "source": [
    "def left_4 (x):\n",
    "    x = str(x)\n",
    "    if len(x[:4])>3: \n",
    "        return int(x[:4])\n",
    "    else:\n",
    "        return int(9999)\n",
    "data_cleaner[\"Date_Low\"]=data_cleaner[\"Date_Low\"].apply(left_4)\n",
    "#np.unique(data_cleaner[\"Date_Low\"])"
   ]
  },
  {
   "cell_type": "code",
   "execution_count": 18,
   "metadata": {
    "collapsed": false
   },
   "outputs": [],
   "source": [
    "#len(data_cleaner[data_cleaner[\"Date_Low\"]==9999])\n",
    "data_cleaner = data_cleaner[data_cleaner[\"Date_Low\"]!=9999]\n"
   ]
  },
  {
   "cell_type": "markdown",
   "metadata": {},
   "source": [
    "---- Correction of Condition ---- "
   ]
  },
  {
   "cell_type": "code",
   "execution_count": 19,
   "metadata": {
    "collapsed": false
   },
   "outputs": [
    {
     "data": {
      "text/plain": [
       "array([' ', '     ', ' +A  ', ' +B  ', ' +C  ', ' A   ', ' A + ', ' A+  ',\n",
       "       ' B   ', ' B+  ', ' C   ', ' C+  ', ' D   '], dtype=object)"
      ]
     },
     "execution_count": 19,
     "metadata": {},
     "output_type": "execute_result"
    }
   ],
   "source": [
    "np.unique(data_cleaner[\"Condition\"])"
   ]
  },
  {
   "cell_type": "code",
   "execution_count": 20,
   "metadata": {
    "collapsed": false,
    "scrolled": true
   },
   "outputs": [],
   "source": [
    "#data_cleaner[data_cleaner[\"Condition\"]== ' A + ']"
   ]
  },
  {
   "cell_type": "code",
   "execution_count": 21,
   "metadata": {
    "collapsed": false
   },
   "outputs": [],
   "source": [
    "#data_cleaner[data_cleaner[\"Condition\"]== ' +A  '].head(2)"
   ]
  },
  {
   "cell_type": "code",
   "execution_count": 22,
   "metadata": {
    "collapsed": false
   },
   "outputs": [
    {
     "data": {
      "text/html": [
       "<div>\n",
       "<table border=\"1\" class=\"dataframe\">\n",
       "  <thead>\n",
       "    <tr style=\"text-align: right;\">\n",
       "      <th></th>\n",
       "      <th>Index</th>\n",
       "      <th>Auction</th>\n",
       "      <th>Auction_Close</th>\n",
       "      <th>Auction_No</th>\n",
       "      <th>By</th>\n",
       "      <th>Color</th>\n",
       "      <th>Condition</th>\n",
       "      <th>Date</th>\n",
       "      <th>Date_High</th>\n",
       "      <th>Date_Low</th>\n",
       "      <th>...</th>\n",
       "      <th>Publication</th>\n",
       "      <th>Size</th>\n",
       "      <th>Size_Cm</th>\n",
       "      <th>Size_Cm_H</th>\n",
       "      <th>Size_Cm_W</th>\n",
       "      <th>Size_Inches</th>\n",
       "      <th>Sold_For</th>\n",
       "      <th>Subject</th>\n",
       "      <th>Text</th>\n",
       "      <th>Title</th>\n",
       "    </tr>\n",
       "  </thead>\n",
       "  <tbody>\n",
       "    <tr>\n",
       "      <th>8176</th>\n",
       "      <td>47</td>\n",
       "      <td>125 -  9/24/2008</td>\n",
       "      <td>2008-09-24</td>\n",
       "      <td>125</td>\n",
       "      <td>Scherer</td>\n",
       "      <td>hand color</td>\n",
       "      <td>A +</td>\n",
       "      <td>1703</td>\n",
       "      <td>NaN</td>\n",
       "      <td>1703</td>\n",
       "      <td>...</td>\n",
       "      <td>Atlas Novus</td>\n",
       "      <td>14 x 9 inches 35.6 x 22.9 cm</td>\n",
       "      <td>35.6x22.9</td>\n",
       "      <td>22.9</td>\n",
       "      <td>35.6</td>\n",
       "      <td>14x9</td>\n",
       "      <td>1500</td>\n",
       "      <td>World - Polar</td>\n",
       "      <td>\\n\\nThis very graphic map of the world is pres...</td>\n",
       "      <td>Lot #48: \"Repraesentatio Geographica Itineris ...</td>\n",
       "    </tr>\n",
       "  </tbody>\n",
       "</table>\n",
       "<p>1 rows × 25 columns</p>\n",
       "</div>"
      ],
      "text/plain": [
       "      Index           Auction Auction_Close  Auction_No        By  \\\n",
       "8176     47  125 -  9/24/2008    2008-09-24         125   Scherer   \n",
       "\n",
       "            Color Condition         Date Date_High  Date_Low  \\\n",
       "8176   hand color      A +    1703             NaN      1703   \n",
       "\n",
       "                            ...                            Publication  \\\n",
       "8176                        ...                           Atlas Novus\n",
       "   \n",
       "\n",
       "                                Size    Size_Cm Size_Cm_H  Size_Cm_W  \\\n",
       "8176   14 x 9 inches 35.6 x 22.9 cm   35.6x22.9      22.9       35.6   \n",
       "\n",
       "     Size_Inches Sold_For         Subject  \\\n",
       "8176        14x9     1500   World - Polar   \n",
       "\n",
       "                                                   Text  \\\n",
       "8176  \\n\\nThis very graphic map of the world is pres...   \n",
       "\n",
       "                                                  Title  \n",
       "8176  Lot #48: \"Repraesentatio Geographica Itineris ...  \n",
       "\n",
       "[1 rows x 25 columns]"
      ]
     },
     "execution_count": 22,
     "metadata": {},
     "output_type": "execute_result"
    }
   ],
   "source": [
    "data_cleaner[data_cleaner[\"Index\"] == 47][data_cleaner[data_cleaner[\"Index\"] == 47][\"Auction_No\"]== 125]"
   ]
  },
  {
   "cell_type": "code",
   "execution_count": 23,
   "metadata": {
    "collapsed": false
   },
   "outputs": [
    {
     "data": {
      "text/plain": [
       "array(['', '+A', '+B', '+C', 'A', 'A+', 'B', 'B+', 'C', 'C+', 'D'], dtype=object)"
      ]
     },
     "execution_count": 23,
     "metadata": {},
     "output_type": "execute_result"
    }
   ],
   "source": [
    "def cond_repair_1(x):\n",
    "    return x.replace(\" \", \"\")\n",
    "data_cleaner[\"Condition\"]=data_cleaner[\"Condition\"].apply(cond_repair_1)\n",
    "np.unique(data_cleaner[\"Condition\"])"
   ]
  },
  {
   "cell_type": "code",
   "execution_count": 24,
   "metadata": {
    "collapsed": false
   },
   "outputs": [],
   "source": [
    "def cond_repair_2(x):\n",
    "    if len(x)<1:\n",
    "        x='None'\n",
    "    else:\n",
    "        if x[0]=='+':\n",
    "            x=x[1]+x[0]\n",
    "    return x\n",
    "data_cleaner[\"Condition\"]=data_cleaner[\"Condition\"].apply(cond_repair_2)"
   ]
  },
  {
   "cell_type": "code",
   "execution_count": 25,
   "metadata": {
    "collapsed": false
   },
   "outputs": [],
   "source": [
    "#np.unique(data_cleaner[\"Condition\"])"
   ]
  },
  {
   "cell_type": "code",
   "execution_count": 26,
   "metadata": {
    "collapsed": false
   },
   "outputs": [
    {
     "data": {
      "text/plain": [
       "Index(['Index', 'Auction', 'Auction_Close', 'Auction_No', 'By', 'Color',\n",
       "       'Condition', 'Date', 'Date_High', 'Date_Low', 'Estimate',\n",
       "       'Estimate_High', 'Estimate_Low', 'Image', 'Lot', 'Publication', 'Size',\n",
       "       'Size_Cm', 'Size_Cm_H', 'Size_Cm_W', 'Size_Inches', 'Sold_For',\n",
       "       'Subject', 'Text', 'Title'],\n",
       "      dtype='object')"
      ]
     },
     "execution_count": 26,
     "metadata": {},
     "output_type": "execute_result"
    }
   ],
   "source": [
    "data_cleaner.columns"
   ]
  },
  {
   "cell_type": "markdown",
   "metadata": {},
   "source": [
    "--- Correction of Estimates and Sold_For -----"
   ]
  },
  {
   "cell_type": "code",
   "execution_count": 27,
   "metadata": {
    "collapsed": false
   },
   "outputs": [],
   "source": [
    "def to_int (x):\n",
    "    return int(x)\n",
    "data_cleaner[\"Estimate_High\"] =data_cleaner[\"Estimate_High\"].apply(to_int)"
   ]
  },
  {
   "cell_type": "code",
   "execution_count": 28,
   "metadata": {
    "collapsed": false
   },
   "outputs": [],
   "source": [
    "data_cleaner[\"Estimate_Low\"] =data_cleaner[\"Estimate_Low\"].apply(to_int)"
   ]
  },
  {
   "cell_type": "code",
   "execution_count": 29,
   "metadata": {
    "collapsed": false
   },
   "outputs": [],
   "source": [
    "data_cleaner[\"Sold_For\"] =data_cleaner[\"Sold_For\"].apply(to_int)\n"
   ]
  },
  {
   "cell_type": "markdown",
   "metadata": {},
   "source": [
    "----- Correction of Cartographers (By) -----"
   ]
  },
  {
   "cell_type": "code",
   "execution_count": 30,
   "metadata": {
    "collapsed": false
   },
   "outputs": [],
   "source": [
    "def clean_carto(x):\n",
    "    x = x.strip()\n",
    "    if x == '' or x == '[blank]':\n",
    "        x = 'Unknown'\n",
    "    return x\n",
    "data_cleaner[\"By\"] = data_cleaner[\"By\"].apply(clean_carto)\n",
    "#data_cleaner[ data_cleaner[\"By\"] == 'Unknown']"
   ]
  },
  {
   "cell_type": "code",
   "execution_count": 54,
   "metadata": {
    "collapsed": false
   },
   "outputs": [],
   "source": [
    "#len(np.unique(data_cleaner[\"By\"]))"
   ]
  },
  {
   "cell_type": "code",
   "execution_count": 62,
   "metadata": {
    "collapsed": false
   },
   "outputs": [],
   "source": [
    "#np.unique(data_cleaner[\"By\"])"
   ]
  },
  {
   "cell_type": "markdown",
   "metadata": {},
   "source": [
    "----- Add Century and Sold binary -----"
   ]
  },
  {
   "cell_type": "code",
   "execution_count": 55,
   "metadata": {
    "collapsed": true
   },
   "outputs": [],
   "source": [
    "def data_century(x):\n",
    "    x = str(x+100)\n",
    "    x = x[0]+x[1]+'th'\n",
    "    return x\n",
    "\n",
    "def data_sold(y):\n",
    "    z= 0\n",
    "    if y > 0:\n",
    "        z= 1\n",
    "    return z\n",
    "\n",
    "data_cleaner[\"Century\"] = data_cleaner[\"Date_Low\"].apply(data_century)\n",
    "data_cleaner[\"Sold\"] = data_cleaner[\"Sold_For\"].apply(data_sold)"
   ]
  },
  {
   "cell_type": "markdown",
   "metadata": {},
   "source": [
    "### Graphs and Analysis"
   ]
  },
  {
   "cell_type": "code",
   "execution_count": 56,
   "metadata": {
    "collapsed": false
   },
   "outputs": [
    {
     "data": {
      "text/html": [
       "<div>\n",
       "<table border=\"1\" class=\"dataframe\">\n",
       "  <thead>\n",
       "    <tr style=\"text-align: right;\">\n",
       "      <th></th>\n",
       "      <th>Index</th>\n",
       "      <th>Auction_No</th>\n",
       "      <th>Date_Low</th>\n",
       "      <th>Estimate_High</th>\n",
       "      <th>Estimate_Low</th>\n",
       "      <th>Lot</th>\n",
       "      <th>Size_Cm_H</th>\n",
       "      <th>Size_Cm_W</th>\n",
       "      <th>Sold_For</th>\n",
       "      <th>Sold</th>\n",
       "    </tr>\n",
       "  </thead>\n",
       "  <tbody>\n",
       "    <tr>\n",
       "      <th>count</th>\n",
       "      <td>34557.000000</td>\n",
       "      <td>34557.000000</td>\n",
       "      <td>34557.000000</td>\n",
       "      <td>34557.000000</td>\n",
       "      <td>34557.000000</td>\n",
       "      <td>34557.000000</td>\n",
       "      <td>34557.000000</td>\n",
       "      <td>34557.000000</td>\n",
       "      <td>34557.000000</td>\n",
       "      <td>34557.000000</td>\n",
       "    </tr>\n",
       "    <tr>\n",
       "      <th>mean</th>\n",
       "      <td>428.050149</td>\n",
       "      <td>135.391527</td>\n",
       "      <td>1744.683827</td>\n",
       "      <td>715.282577</td>\n",
       "      <td>572.502098</td>\n",
       "      <td>429.050149</td>\n",
       "      <td>31.910174</td>\n",
       "      <td>38.321388</td>\n",
       "      <td>-2044.960963</td>\n",
       "      <td>0.760193</td>\n",
       "    </tr>\n",
       "    <tr>\n",
       "      <th>std</th>\n",
       "      <td>252.379831</td>\n",
       "      <td>11.993218</td>\n",
       "      <td>106.623170</td>\n",
       "      <td>1684.671711</td>\n",
       "      <td>1361.288388</td>\n",
       "      <td>252.379831</td>\n",
       "      <td>18.819407</td>\n",
       "      <td>23.494565</td>\n",
       "      <td>4573.601357</td>\n",
       "      <td>0.426972</td>\n",
       "    </tr>\n",
       "    <tr>\n",
       "      <th>min</th>\n",
       "      <td>0.000000</td>\n",
       "      <td>116.000000</td>\n",
       "      <td>1250.000000</td>\n",
       "      <td>15.000000</td>\n",
       "      <td>10.000000</td>\n",
       "      <td>1.000000</td>\n",
       "      <td>0.000000</td>\n",
       "      <td>0.000000</td>\n",
       "      <td>-10000.000000</td>\n",
       "      <td>0.000000</td>\n",
       "    </tr>\n",
       "    <tr>\n",
       "      <th>25%</th>\n",
       "      <td>210.000000</td>\n",
       "      <td>125.000000</td>\n",
       "      <td>1671.000000</td>\n",
       "      <td>200.000000</td>\n",
       "      <td>150.000000</td>\n",
       "      <td>211.000000</td>\n",
       "      <td>19.600000</td>\n",
       "      <td>22.900000</td>\n",
       "      <td>47.000000</td>\n",
       "      <td>1.000000</td>\n",
       "    </tr>\n",
       "    <tr>\n",
       "      <th>50%</th>\n",
       "      <td>424.000000</td>\n",
       "      <td>135.000000</td>\n",
       "      <td>1750.000000</td>\n",
       "      <td>325.000000</td>\n",
       "      <td>250.000000</td>\n",
       "      <td>425.000000</td>\n",
       "      <td>30.500000</td>\n",
       "      <td>36.100000</td>\n",
       "      <td>150.000000</td>\n",
       "      <td>1.000000</td>\n",
       "    </tr>\n",
       "    <tr>\n",
       "      <th>75%</th>\n",
       "      <td>640.000000</td>\n",
       "      <td>146.000000</td>\n",
       "      <td>1835.000000</td>\n",
       "      <td>600.000000</td>\n",
       "      <td>475.000000</td>\n",
       "      <td>641.000000</td>\n",
       "      <td>42.000000</td>\n",
       "      <td>50.800000</td>\n",
       "      <td>300.000000</td>\n",
       "      <td>1.000000</td>\n",
       "    </tr>\n",
       "    <tr>\n",
       "      <th>max</th>\n",
       "      <td>994.000000</td>\n",
       "      <td>157.000000</td>\n",
       "      <td>2010.000000</td>\n",
       "      <td>90000.000000</td>\n",
       "      <td>70000.000000</td>\n",
       "      <td>995.000000</td>\n",
       "      <td>335.300000</td>\n",
       "      <td>469.900000</td>\n",
       "      <td>52500.000000</td>\n",
       "      <td>1.000000</td>\n",
       "    </tr>\n",
       "  </tbody>\n",
       "</table>\n",
       "</div>"
      ],
      "text/plain": [
       "              Index    Auction_No      Date_Low  Estimate_High  Estimate_Low  \\\n",
       "count  34557.000000  34557.000000  34557.000000   34557.000000  34557.000000   \n",
       "mean     428.050149    135.391527   1744.683827     715.282577    572.502098   \n",
       "std      252.379831     11.993218    106.623170    1684.671711   1361.288388   \n",
       "min        0.000000    116.000000   1250.000000      15.000000     10.000000   \n",
       "25%      210.000000    125.000000   1671.000000     200.000000    150.000000   \n",
       "50%      424.000000    135.000000   1750.000000     325.000000    250.000000   \n",
       "75%      640.000000    146.000000   1835.000000     600.000000    475.000000   \n",
       "max      994.000000    157.000000   2010.000000   90000.000000  70000.000000   \n",
       "\n",
       "                Lot     Size_Cm_H     Size_Cm_W      Sold_For          Sold  \n",
       "count  34557.000000  34557.000000  34557.000000  34557.000000  34557.000000  \n",
       "mean     429.050149     31.910174     38.321388  -2044.960963      0.760193  \n",
       "std      252.379831     18.819407     23.494565   4573.601357      0.426972  \n",
       "min        1.000000      0.000000      0.000000 -10000.000000      0.000000  \n",
       "25%      211.000000     19.600000     22.900000     47.000000      1.000000  \n",
       "50%      425.000000     30.500000     36.100000    150.000000      1.000000  \n",
       "75%      641.000000     42.000000     50.800000    300.000000      1.000000  \n",
       "max      995.000000    335.300000    469.900000  52500.000000      1.000000  "
      ]
     },
     "execution_count": 56,
     "metadata": {},
     "output_type": "execute_result"
    }
   ],
   "source": [
    "data_cleaner.describe()"
   ]
  },
  {
   "cell_type": "code",
   "execution_count": 60,
   "metadata": {
    "collapsed": false
   },
   "outputs": [
    {
     "data": {
      "text/html": [
       "<div>\n",
       "<table border=\"1\" class=\"dataframe\">\n",
       "  <thead>\n",
       "    <tr style=\"text-align: right;\">\n",
       "      <th></th>\n",
       "      <th>Index</th>\n",
       "      <th>Auction_No</th>\n",
       "      <th>Date_Low</th>\n",
       "      <th>Estimate_High</th>\n",
       "      <th>Estimate_Low</th>\n",
       "      <th>Lot</th>\n",
       "      <th>Size_Cm_H</th>\n",
       "      <th>Size_Cm_W</th>\n",
       "      <th>Sold_For</th>\n",
       "      <th>Sold</th>\n",
       "    </tr>\n",
       "  </thead>\n",
       "  <tbody>\n",
       "    <tr>\n",
       "      <th>Index</th>\n",
       "      <td>1.000000</td>\n",
       "      <td>-0.086559</td>\n",
       "      <td>-0.209203</td>\n",
       "      <td>-0.124820</td>\n",
       "      <td>-0.127014</td>\n",
       "      <td>1.000000</td>\n",
       "      <td>-0.122373</td>\n",
       "      <td>-0.149250</td>\n",
       "      <td>-0.036715</td>\n",
       "      <td>-0.016498</td>\n",
       "    </tr>\n",
       "    <tr>\n",
       "      <th>Auction_No</th>\n",
       "      <td>-0.086559</td>\n",
       "      <td>1.000000</td>\n",
       "      <td>0.006634</td>\n",
       "      <td>0.035957</td>\n",
       "      <td>0.039631</td>\n",
       "      <td>-0.086559</td>\n",
       "      <td>0.008973</td>\n",
       "      <td>0.012661</td>\n",
       "      <td>-0.071437</td>\n",
       "      <td>-0.071778</td>\n",
       "    </tr>\n",
       "    <tr>\n",
       "      <th>Date_Low</th>\n",
       "      <td>-0.209203</td>\n",
       "      <td>0.006634</td>\n",
       "      <td>1.000000</td>\n",
       "      <td>-0.120918</td>\n",
       "      <td>-0.125733</td>\n",
       "      <td>-0.209203</td>\n",
       "      <td>0.237303</td>\n",
       "      <td>0.157628</td>\n",
       "      <td>0.009506</td>\n",
       "      <td>0.033829</td>\n",
       "    </tr>\n",
       "    <tr>\n",
       "      <th>Estimate_High</th>\n",
       "      <td>-0.124820</td>\n",
       "      <td>0.035957</td>\n",
       "      <td>-0.120918</td>\n",
       "      <td>1.000000</td>\n",
       "      <td>0.997351</td>\n",
       "      <td>-0.124820</td>\n",
       "      <td>0.148493</td>\n",
       "      <td>0.171261</td>\n",
       "      <td>0.139349</td>\n",
       "      <td>-0.028525</td>\n",
       "    </tr>\n",
       "    <tr>\n",
       "      <th>Estimate_Low</th>\n",
       "      <td>-0.127014</td>\n",
       "      <td>0.039631</td>\n",
       "      <td>-0.125733</td>\n",
       "      <td>0.997351</td>\n",
       "      <td>1.000000</td>\n",
       "      <td>-0.127014</td>\n",
       "      <td>0.146381</td>\n",
       "      <td>0.169827</td>\n",
       "      <td>0.137467</td>\n",
       "      <td>-0.029877</td>\n",
       "    </tr>\n",
       "    <tr>\n",
       "      <th>Lot</th>\n",
       "      <td>1.000000</td>\n",
       "      <td>-0.086559</td>\n",
       "      <td>-0.209203</td>\n",
       "      <td>-0.124820</td>\n",
       "      <td>-0.127014</td>\n",
       "      <td>1.000000</td>\n",
       "      <td>-0.122373</td>\n",
       "      <td>-0.149250</td>\n",
       "      <td>-0.036715</td>\n",
       "      <td>-0.016498</td>\n",
       "    </tr>\n",
       "    <tr>\n",
       "      <th>Size_Cm_H</th>\n",
       "      <td>-0.122373</td>\n",
       "      <td>0.008973</td>\n",
       "      <td>0.237303</td>\n",
       "      <td>0.148493</td>\n",
       "      <td>0.146381</td>\n",
       "      <td>-0.122373</td>\n",
       "      <td>1.000000</td>\n",
       "      <td>0.772977</td>\n",
       "      <td>0.012033</td>\n",
       "      <td>-0.012764</td>\n",
       "    </tr>\n",
       "    <tr>\n",
       "      <th>Size_Cm_W</th>\n",
       "      <td>-0.149250</td>\n",
       "      <td>0.012661</td>\n",
       "      <td>0.157628</td>\n",
       "      <td>0.171261</td>\n",
       "      <td>0.169827</td>\n",
       "      <td>-0.149250</td>\n",
       "      <td>0.772977</td>\n",
       "      <td>1.000000</td>\n",
       "      <td>0.011089</td>\n",
       "      <td>-0.020648</td>\n",
       "    </tr>\n",
       "    <tr>\n",
       "      <th>Sold_For</th>\n",
       "      <td>-0.036715</td>\n",
       "      <td>-0.071437</td>\n",
       "      <td>0.009506</td>\n",
       "      <td>0.139349</td>\n",
       "      <td>0.137467</td>\n",
       "      <td>-0.036715</td>\n",
       "      <td>0.012033</td>\n",
       "      <td>0.011089</td>\n",
       "      <td>1.000000</td>\n",
       "      <td>0.976920</td>\n",
       "    </tr>\n",
       "    <tr>\n",
       "      <th>Sold</th>\n",
       "      <td>-0.016498</td>\n",
       "      <td>-0.071778</td>\n",
       "      <td>0.033829</td>\n",
       "      <td>-0.028525</td>\n",
       "      <td>-0.029877</td>\n",
       "      <td>-0.016498</td>\n",
       "      <td>-0.012764</td>\n",
       "      <td>-0.020648</td>\n",
       "      <td>0.976920</td>\n",
       "      <td>1.000000</td>\n",
       "    </tr>\n",
       "  </tbody>\n",
       "</table>\n",
       "</div>"
      ],
      "text/plain": [
       "                  Index  Auction_No  Date_Low  Estimate_High  Estimate_Low  \\\n",
       "Index          1.000000   -0.086559 -0.209203      -0.124820     -0.127014   \n",
       "Auction_No    -0.086559    1.000000  0.006634       0.035957      0.039631   \n",
       "Date_Low      -0.209203    0.006634  1.000000      -0.120918     -0.125733   \n",
       "Estimate_High -0.124820    0.035957 -0.120918       1.000000      0.997351   \n",
       "Estimate_Low  -0.127014    0.039631 -0.125733       0.997351      1.000000   \n",
       "Lot            1.000000   -0.086559 -0.209203      -0.124820     -0.127014   \n",
       "Size_Cm_H     -0.122373    0.008973  0.237303       0.148493      0.146381   \n",
       "Size_Cm_W     -0.149250    0.012661  0.157628       0.171261      0.169827   \n",
       "Sold_For      -0.036715   -0.071437  0.009506       0.139349      0.137467   \n",
       "Sold          -0.016498   -0.071778  0.033829      -0.028525     -0.029877   \n",
       "\n",
       "                    Lot  Size_Cm_H  Size_Cm_W  Sold_For      Sold  \n",
       "Index          1.000000  -0.122373  -0.149250 -0.036715 -0.016498  \n",
       "Auction_No    -0.086559   0.008973   0.012661 -0.071437 -0.071778  \n",
       "Date_Low      -0.209203   0.237303   0.157628  0.009506  0.033829  \n",
       "Estimate_High -0.124820   0.148493   0.171261  0.139349 -0.028525  \n",
       "Estimate_Low  -0.127014   0.146381   0.169827  0.137467 -0.029877  \n",
       "Lot            1.000000  -0.122373  -0.149250 -0.036715 -0.016498  \n",
       "Size_Cm_H     -0.122373   1.000000   0.772977  0.012033 -0.012764  \n",
       "Size_Cm_W     -0.149250   0.772977   1.000000  0.011089 -0.020648  \n",
       "Sold_For      -0.036715   0.012033   0.011089  1.000000  0.976920  \n",
       "Sold          -0.016498  -0.012764  -0.020648  0.976920  1.000000  "
      ]
     },
     "execution_count": 60,
     "metadata": {},
     "output_type": "execute_result"
    }
   ],
   "source": [
    "corr = data_cleaner.corr()\n",
    "corr"
   ]
  },
  {
   "cell_type": "markdown",
   "metadata": {},
   "source": [
    "----- Analysing unsold lots -----"
   ]
  },
  {
   "cell_type": "code",
   "execution_count": 50,
   "metadata": {
    "collapsed": false
   },
   "outputs": [
    {
     "data": {
      "text/plain": [
       "8287"
      ]
     },
     "execution_count": 50,
     "metadata": {},
     "output_type": "execute_result"
    }
   ],
   "source": [
    "(data_cleaner[\"Sold_For\"]==-10000).sum()"
   ]
  },
  {
   "cell_type": "code",
   "execution_count": 57,
   "metadata": {
    "collapsed": false,
    "scrolled": true
   },
   "outputs": [
    {
     "data": {
      "text/html": [
       "<div>\n",
       "<table border=\"1\" class=\"dataframe\">\n",
       "  <thead>\n",
       "    <tr style=\"text-align: right;\">\n",
       "      <th></th>\n",
       "      <th>Index</th>\n",
       "      <th>Auction</th>\n",
       "      <th>Auction_Close</th>\n",
       "      <th>Auction_No</th>\n",
       "      <th>By</th>\n",
       "      <th>Color</th>\n",
       "      <th>Condition</th>\n",
       "      <th>Date</th>\n",
       "      <th>Date_High</th>\n",
       "      <th>Date_Low</th>\n",
       "      <th>...</th>\n",
       "      <th>Size_Cm</th>\n",
       "      <th>Size_Cm_H</th>\n",
       "      <th>Size_Cm_W</th>\n",
       "      <th>Size_Inches</th>\n",
       "      <th>Sold_For</th>\n",
       "      <th>Subject</th>\n",
       "      <th>Text</th>\n",
       "      <th>Title</th>\n",
       "      <th>Century</th>\n",
       "      <th>Sold</th>\n",
       "    </tr>\n",
       "  </thead>\n",
       "  <tbody>\n",
       "    <tr>\n",
       "      <th>8</th>\n",
       "      <td>8</td>\n",
       "      <td>116 -  9/20/2006</td>\n",
       "      <td>2006-09-20</td>\n",
       "      <td>116</td>\n",
       "      <td>Jacques Nicolas Bellin</td>\n",
       "      <td>uncolored</td>\n",
       "      <td>A</td>\n",
       "      <td>1772</td>\n",
       "      <td>NaN</td>\n",
       "      <td>1772</td>\n",
       "      <td>...</td>\n",
       "      <td>36.4x50.3</td>\n",
       "      <td>50.3</td>\n",
       "      <td>36.4</td>\n",
       "      <td>14.3x19.8</td>\n",
       "      <td>-10000</td>\n",
       "      <td>Title Pages</td>\n",
       "      <td>\\n\\nFine pair of French title pages from this ...</td>\n",
       "      <td>Lot #9: \"[Lot of 2] Hydrographie Francoise Rec...</td>\n",
       "      <td>18th</td>\n",
       "      <td>0</td>\n",
       "    </tr>\n",
       "  </tbody>\n",
       "</table>\n",
       "<p>1 rows × 27 columns</p>\n",
       "</div>"
      ],
      "text/plain": [
       "   Index           Auction Auction_Close  Auction_No                      By  \\\n",
       "8      8  116 -  9/20/2006    2006-09-20         116  Jacques Nicolas Bellin   \n",
       "\n",
       "        Color Condition         Date Date_High  Date_Low  ...     Size_Cm  \\\n",
       "8   uncolored         A   1772             NaN      1772  ...   36.4x50.3   \n",
       "\n",
       "   Size_Cm_H  Size_Cm_W Size_Inches  Sold_For       Subject  \\\n",
       "8       50.3       36.4   14.3x19.8    -10000   Title Pages   \n",
       "\n",
       "                                                Text  \\\n",
       "8  \\n\\nFine pair of French title pages from this ...   \n",
       "\n",
       "                                               Title  Century  Sold  \n",
       "8  Lot #9: \"[Lot of 2] Hydrographie Francoise Rec...     18th     0  \n",
       "\n",
       "[1 rows x 27 columns]"
      ]
     },
     "execution_count": 57,
     "metadata": {},
     "output_type": "execute_result"
    }
   ],
   "source": [
    "data_cleaner[data_cleaner[\"Sold_For\"]==-10000].head(1)"
   ]
  },
  {
   "cell_type": "markdown",
   "metadata": {},
   "source": [
    "----- Analysing Cartographers -----"
   ]
  },
  {
   "cell_type": "code",
   "execution_count": 79,
   "metadata": {
    "collapsed": false
   },
   "outputs": [
    {
     "data": {
      "text/plain": [
       "0         Heinrich Bunting\n",
       "1                  Unknown\n",
       "2         Abraham Ortelius\n",
       "3         Mercator/Jansson\n",
       "4    Johann Baptist Homann\n",
       "Name: By, dtype: object"
      ]
     },
     "execution_count": 79,
     "metadata": {},
     "output_type": "execute_result"
    }
   ],
   "source": [
    "data_cleaner['By'].head()"
   ]
  },
  {
   "cell_type": "code",
   "execution_count": 135,
   "metadata": {
    "collapsed": false
   },
   "outputs": [],
   "source": [
    "from collections import Counter\n",
    "ct = Counter (list(data_cleaner['By']))\n",
    "ctm = ct.most_common()"
   ]
  },
  {
   "cell_type": "code",
   "execution_count": 34,
   "metadata": {
    "collapsed": false
   },
   "outputs": [
    {
     "data": {
      "text/plain": [
       "-0.12361775374100703"
      ]
     },
     "execution_count": 34,
     "metadata": {},
     "output_type": "execute_result"
    }
   ],
   "source": [
    "a = data_cleaner[data_cleaner[\"Sold_For\"]>0][\"Sold_For\"]\n",
    "b= data_cleaner[data_cleaner[\"Sold_For\"]>0][\"Date_Low\"]\n",
    "np.corrcoef(a, b)[0, 1]"
   ]
  },
  {
   "cell_type": "markdown",
   "metadata": {},
   "source": [
    "### Modeling"
   ]
  },
  {
   "cell_type": "code",
   "execution_count": 108,
   "metadata": {
    "collapsed": false
   },
   "outputs": [
    {
     "data": {
      "text/plain": [
       "Index(['Index', 'Auction', 'Auction_Close', 'Auction_No', 'By', 'Color',\n",
       "       'Condition', 'Date', 'Date_High', 'Date_Low', 'Estimate',\n",
       "       'Estimate_High', 'Estimate_Low', 'Image', 'Lot', 'Publication', 'Size',\n",
       "       'Size_Cm', 'Size_Cm_H', 'Size_Cm_W', 'Size_Inches', 'Sold_For',\n",
       "       'Subject', 'Text', 'Title', 'Century', 'Sold'],\n",
       "      dtype='object')"
      ]
     },
     "execution_count": 108,
     "metadata": {},
     "output_type": "execute_result"
    }
   ],
   "source": [
    "data_cleaner.columns\n",
    "#data_model = data_cleaner[['Auction_No', 'Date_Low']]\n",
    "#data_model"
   ]
  },
  {
   "cell_type": "code",
   "execution_count": 128,
   "metadata": {
    "collapsed": false
   },
   "outputs": [],
   "source": [
    "data_model = data_cleaner [['Auction_No', 'Sold_For', 'By','Date_Low',  'Color', 'Condition', 'Size_Cm_H', 'Size_Cm_W', 'Subject']]\n",
    "data_model = data_model[data_model['Sold_For']>0]\n",
    "\n"
   ]
  },
  {
   "cell_type": "code",
   "execution_count": 144,
   "metadata": {
    "collapsed": false
   },
   "outputs": [
    {
     "data": {
      "text/html": [
       "<div>\n",
       "<table border=\"1\" class=\"dataframe\">\n",
       "  <thead>\n",
       "    <tr style=\"text-align: right;\">\n",
       "      <th></th>\n",
       "      <th>Auction_No</th>\n",
       "      <th>Sold_For</th>\n",
       "      <th>By</th>\n",
       "      <th>Date_Low</th>\n",
       "      <th>Color</th>\n",
       "      <th>Condition</th>\n",
       "      <th>Size_Cm_H</th>\n",
       "      <th>Size_Cm_W</th>\n",
       "      <th>Subject</th>\n",
       "    </tr>\n",
       "  </thead>\n",
       "  <tbody>\n",
       "    <tr>\n",
       "      <th>0</th>\n",
       "      <td>116</td>\n",
       "      <td>600</td>\n",
       "      <td>664</td>\n",
       "      <td>1582</td>\n",
       "      <td>1</td>\n",
       "      <td>2</td>\n",
       "      <td>29.8</td>\n",
       "      <td>17.8</td>\n",
       "      <td>3128</td>\n",
       "    </tr>\n",
       "    <tr>\n",
       "      <th>1</th>\n",
       "      <td>116</td>\n",
       "      <td>140</td>\n",
       "      <td>1656</td>\n",
       "      <td>1595</td>\n",
       "      <td>1</td>\n",
       "      <td>7</td>\n",
       "      <td>0.0</td>\n",
       "      <td>0.0</td>\n",
       "      <td>3128</td>\n",
       "    </tr>\n",
       "  </tbody>\n",
       "</table>\n",
       "</div>"
      ],
      "text/plain": [
       "   Auction_No  Sold_For    By  Date_Low  Color  Condition  Size_Cm_H  \\\n",
       "0         116       600   664      1582      1          2       29.8   \n",
       "1         116       140  1656      1595      1          7        0.0   \n",
       "\n",
       "   Size_Cm_W  Subject  \n",
       "0       17.8     3128  \n",
       "1        0.0     3128  "
      ]
     },
     "execution_count": 144,
     "metadata": {},
     "output_type": "execute_result"
    }
   ],
   "source": [
    "from sklearn import preprocessing\n",
    "#Condition\n",
    "le_cond = preprocessing.LabelEncoder()\n",
    "le_cond.fit(data_model['Condition'])    \n",
    "data_model['Condition'] = le_cond.transform(data_model['Condition']) \n",
    "#Subject\n",
    "le_subj = preprocessing.LabelEncoder()\n",
    "le_subj.fit(data_model['Subject'])    \n",
    "data_model['Subject'] = le_subj.transform(data_model['Subject']) \n",
    "#Color\n",
    "le_color = preprocessing.LabelEncoder()\n",
    "le_color.fit(data_model['Color'])    \n",
    "data_model['Color'] = le_color.transform(data_model['Color']) \n",
    "#By\n",
    "le_by = preprocessing.LabelEncoder()\n",
    "le_by.fit(data_model['By'])    \n",
    "data_model['By'] = le_by.transform(data_model['By']) \n",
    "\n",
    "\n",
    "\n",
    "data_model.head(2)"
   ]
  },
  {
   "cell_type": "code",
   "execution_count": 145,
   "metadata": {
    "collapsed": true
   },
   "outputs": [],
   "source": [
    "data_train = data_model[data_model[\"Auction_No\"]<157]\n",
    "data_test = data_model[data_model[\"Auction_No\"]==157]"
   ]
  },
  {
   "cell_type": "code",
   "execution_count": 146,
   "metadata": {
    "collapsed": false
   },
   "outputs": [
    {
     "data": {
      "text/plain": [
       "RandomForestRegressor(bootstrap=True, criterion='mse', max_depth=None,\n",
       "           max_features='auto', max_leaf_nodes=None, min_samples_leaf=10,\n",
       "           min_samples_split=2, min_weight_fraction_leaf=0.0,\n",
       "           n_estimators=100, n_jobs=1, oob_score=False, random_state=1,\n",
       "           verbose=0, warm_start=False)"
      ]
     },
     "execution_count": 146,
     "metadata": {},
     "output_type": "execute_result"
    }
   ],
   "source": [
    "from sklearn.ensemble import RandomForestRegressor\n",
    "model = RandomForestRegressor(n_estimators=100, min_samples_leaf=10, random_state=1)\n",
    "model.fit(data_train.ix[:,2:], data_train.ix[:,1])"
   ]
  },
  {
   "cell_type": "code",
   "execution_count": 158,
   "metadata": {
    "collapsed": false
   },
   "outputs": [
    {
     "data": {
      "text/plain": [
       "624.4765091814062"
      ]
     },
     "execution_count": 158,
     "metadata": {},
     "output_type": "execute_result"
    }
   ],
   "source": [
    "from sklearn.metrics import mean_squared_error\n",
    "from math import sqrt\n",
    "# Make predictions.\n",
    "predictions = model.predict(data_test.ix[:,2:])\n",
    "# Compute the error.\n",
    "sqrt(mean_squared_error(predictions, data_test.ix[:,1])) #RMSE"
   ]
  },
  {
   "cell_type": "code",
   "execution_count": 169,
   "metadata": {
    "collapsed": false
   },
   "outputs": [],
   "source": [
    "data_cleaner_sold = data_cleaner[data_cleaner['Sold_For']>0]\n",
    "mean_est = ((data_cleaner_sold[\"Estimate_High\"][data_cleaner_sold[\"Auction_No\"]==157] + data_cleaner_sold[\"Estimate_Low\"][data_cleaner_sold[\"Auction_No\"]==157])/2)"
   ]
  },
  {
   "cell_type": "code",
   "execution_count": 171,
   "metadata": {
    "collapsed": false
   },
   "outputs": [],
   "source": [
    "comp_df = pd.DataFrame.from_items([('predictions', predictions), ('true_price', data_test.ix[:,1]), ('mean_est', mean_est)])"
   ]
  },
  {
   "cell_type": "code",
   "execution_count": 172,
   "metadata": {
    "collapsed": false
   },
   "outputs": [
    {
     "data": {
      "text/plain": [
       "624.4765091814062"
      ]
     },
     "execution_count": 172,
     "metadata": {},
     "output_type": "execute_result"
    }
   ],
   "source": [
    "sqrt(mean_squared_error(comp_df['predictions'], comp_df['true_price'])) #RMSE"
   ]
  },
  {
   "cell_type": "code",
   "execution_count": 173,
   "metadata": {
    "collapsed": false
   },
   "outputs": [
    {
     "data": {
      "text/plain": [
       "667.9765038952324"
      ]
     },
     "execution_count": 173,
     "metadata": {},
     "output_type": "execute_result"
    }
   ],
   "source": [
    "sqrt(mean_squared_error(comp_df['mean_est'], comp_df['true_price'])) #RMSE"
   ]
  },
  {
   "cell_type": "code",
   "execution_count": 176,
   "metadata": {
    "collapsed": false
   },
   "outputs": [
    {
     "name": "stderr",
     "output_type": "stream",
     "text": [
      "/home/user/anaconda3/lib/python3.5/site-packages/ipykernel/__main__.py:1: FutureWarning: sort(columns=....) is deprecated, use sort_values(by=.....)\n",
      "  if __name__ == '__main__':\n"
     ]
    },
    {
     "data": {
      "text/html": [
       "<div>\n",
       "<table border=\"1\" class=\"dataframe\">\n",
       "  <thead>\n",
       "    <tr style=\"text-align: right;\">\n",
       "      <th></th>\n",
       "      <th>predictions</th>\n",
       "      <th>true_price</th>\n",
       "      <th>mean_est</th>\n",
       "    </tr>\n",
       "  </thead>\n",
       "  <tbody>\n",
       "    <tr>\n",
       "      <th>count</th>\n",
       "      <td>574.000000</td>\n",
       "      <td>574.000000</td>\n",
       "      <td>574.000000</td>\n",
       "    </tr>\n",
       "    <tr>\n",
       "      <th>mean</th>\n",
       "      <td>519.058339</td>\n",
       "      <td>479.433798</td>\n",
       "      <td>719.303136</td>\n",
       "    </tr>\n",
       "    <tr>\n",
       "      <th>std</th>\n",
       "      <td>663.679470</td>\n",
       "      <td>980.856260</td>\n",
       "      <td>1546.345913</td>\n",
       "    </tr>\n",
       "    <tr>\n",
       "      <th>min</th>\n",
       "      <td>59.441306</td>\n",
       "      <td>11.000000</td>\n",
       "      <td>40.000000</td>\n",
       "    </tr>\n",
       "    <tr>\n",
       "      <th>25%</th>\n",
       "      <td>204.636527</td>\n",
       "      <td>100.000000</td>\n",
       "      <td>165.000000</td>\n",
       "    </tr>\n",
       "    <tr>\n",
       "      <th>50%</th>\n",
       "      <td>301.874375</td>\n",
       "      <td>200.000000</td>\n",
       "      <td>306.250000</td>\n",
       "    </tr>\n",
       "    <tr>\n",
       "      <th>75%</th>\n",
       "      <td>523.389870</td>\n",
       "      <td>450.000000</td>\n",
       "      <td>625.000000</td>\n",
       "    </tr>\n",
       "    <tr>\n",
       "      <th>max</th>\n",
       "      <td>5811.047787</td>\n",
       "      <td>11500.000000</td>\n",
       "      <td>17500.000000</td>\n",
       "    </tr>\n",
       "  </tbody>\n",
       "</table>\n",
       "</div>"
      ],
      "text/plain": [
       "       predictions    true_price      mean_est\n",
       "count   574.000000    574.000000    574.000000\n",
       "mean    519.058339    479.433798    719.303136\n",
       "std     663.679470    980.856260   1546.345913\n",
       "min      59.441306     11.000000     40.000000\n",
       "25%     204.636527    100.000000    165.000000\n",
       "50%     301.874375    200.000000    306.250000\n",
       "75%     523.389870    450.000000    625.000000\n",
       "max    5811.047787  11500.000000  17500.000000"
      ]
     },
     "execution_count": 176,
     "metadata": {},
     "output_type": "execute_result"
    }
   ],
   "source": [
    "comp_df = comp_df.sort(['true_price'], ascending=[1])\n",
    "comp_df.describe()"
   ]
  },
  {
   "cell_type": "code",
   "execution_count": 199,
   "metadata": {
    "collapsed": false
   },
   "outputs": [],
   "source": [
    "from bokeh.plotting import figure, output_file, show\n",
    "\n",
    "output_file(\"patch.html\")\n",
    "\n",
    "p = figure(plot_width=400, plot_height=400)\n",
    "\n",
    "p.multi_line( [comp_df[\"predictions\"], list(range(0, len(comp_df)))], [comp_df[\"true_price\"],list(range(0, len(comp_df)))],\n",
    "             color=[\"firebrick\", \"navy\"], alpha=[0.8, 0.3], line_width=4)\n",
    "\n",
    "show(p)\n",
    "\n",
    "\n"
   ]
  },
  {
   "cell_type": "code",
   "execution_count": 195,
   "metadata": {
    "collapsed": false
   },
   "outputs": [
    {
     "data": {
      "text/plain": [
       "[0,\n",
       " 1,\n",
       " 2,\n",
       " 3,\n",
       " 4,\n",
       " 5,\n",
       " 6,\n",
       " 7,\n",
       " 8,\n",
       " 9,\n",
       " 10,\n",
       " 11,\n",
       " 12,\n",
       " 13,\n",
       " 14,\n",
       " 15,\n",
       " 16,\n",
       " 17,\n",
       " 18,\n",
       " 19,\n",
       " 20,\n",
       " 21,\n",
       " 22,\n",
       " 23,\n",
       " 24,\n",
       " 25,\n",
       " 26,\n",
       " 27,\n",
       " 28,\n",
       " 29,\n",
       " 30,\n",
       " 31,\n",
       " 32,\n",
       " 33,\n",
       " 34,\n",
       " 35,\n",
       " 36,\n",
       " 37,\n",
       " 38,\n",
       " 39,\n",
       " 40,\n",
       " 41,\n",
       " 42,\n",
       " 43,\n",
       " 44,\n",
       " 45,\n",
       " 46,\n",
       " 47,\n",
       " 48,\n",
       " 49,\n",
       " 50,\n",
       " 51,\n",
       " 52,\n",
       " 53,\n",
       " 54,\n",
       " 55,\n",
       " 56,\n",
       " 57,\n",
       " 58,\n",
       " 59,\n",
       " 60,\n",
       " 61,\n",
       " 62,\n",
       " 63,\n",
       " 64,\n",
       " 65,\n",
       " 66,\n",
       " 67,\n",
       " 68,\n",
       " 69,\n",
       " 70,\n",
       " 71,\n",
       " 72,\n",
       " 73,\n",
       " 74,\n",
       " 75,\n",
       " 76,\n",
       " 77,\n",
       " 78,\n",
       " 79,\n",
       " 80,\n",
       " 81,\n",
       " 82,\n",
       " 83,\n",
       " 84,\n",
       " 85,\n",
       " 86,\n",
       " 87,\n",
       " 88,\n",
       " 89,\n",
       " 90,\n",
       " 91,\n",
       " 92,\n",
       " 93,\n",
       " 94,\n",
       " 95,\n",
       " 96,\n",
       " 97,\n",
       " 98,\n",
       " 99,\n",
       " 100,\n",
       " 101,\n",
       " 102,\n",
       " 103,\n",
       " 104,\n",
       " 105,\n",
       " 106,\n",
       " 107,\n",
       " 108,\n",
       " 109,\n",
       " 110,\n",
       " 111,\n",
       " 112,\n",
       " 113,\n",
       " 114,\n",
       " 115,\n",
       " 116,\n",
       " 117,\n",
       " 118,\n",
       " 119,\n",
       " 120,\n",
       " 121,\n",
       " 122,\n",
       " 123,\n",
       " 124,\n",
       " 125,\n",
       " 126,\n",
       " 127,\n",
       " 128,\n",
       " 129,\n",
       " 130,\n",
       " 131,\n",
       " 132,\n",
       " 133,\n",
       " 134,\n",
       " 135,\n",
       " 136,\n",
       " 137,\n",
       " 138,\n",
       " 139,\n",
       " 140,\n",
       " 141,\n",
       " 142,\n",
       " 143,\n",
       " 144,\n",
       " 145,\n",
       " 146,\n",
       " 147,\n",
       " 148,\n",
       " 149,\n",
       " 150,\n",
       " 151,\n",
       " 152,\n",
       " 153,\n",
       " 154,\n",
       " 155,\n",
       " 156,\n",
       " 157,\n",
       " 158,\n",
       " 159,\n",
       " 160,\n",
       " 161,\n",
       " 162,\n",
       " 163,\n",
       " 164,\n",
       " 165,\n",
       " 166,\n",
       " 167,\n",
       " 168,\n",
       " 169,\n",
       " 170,\n",
       " 171,\n",
       " 172,\n",
       " 173,\n",
       " 174,\n",
       " 175,\n",
       " 176,\n",
       " 177,\n",
       " 178,\n",
       " 179,\n",
       " 180,\n",
       " 181,\n",
       " 182,\n",
       " 183,\n",
       " 184,\n",
       " 185,\n",
       " 186,\n",
       " 187,\n",
       " 188,\n",
       " 189,\n",
       " 190,\n",
       " 191,\n",
       " 192,\n",
       " 193,\n",
       " 194,\n",
       " 195,\n",
       " 196,\n",
       " 197,\n",
       " 198,\n",
       " 199,\n",
       " 200,\n",
       " 201,\n",
       " 202,\n",
       " 203,\n",
       " 204,\n",
       " 205,\n",
       " 206,\n",
       " 207,\n",
       " 208,\n",
       " 209,\n",
       " 210,\n",
       " 211,\n",
       " 212,\n",
       " 213,\n",
       " 214,\n",
       " 215,\n",
       " 216,\n",
       " 217,\n",
       " 218,\n",
       " 219,\n",
       " 220,\n",
       " 221,\n",
       " 222,\n",
       " 223,\n",
       " 224,\n",
       " 225,\n",
       " 226,\n",
       " 227,\n",
       " 228,\n",
       " 229,\n",
       " 230,\n",
       " 231,\n",
       " 232,\n",
       " 233,\n",
       " 234,\n",
       " 235,\n",
       " 236,\n",
       " 237,\n",
       " 238,\n",
       " 239,\n",
       " 240,\n",
       " 241,\n",
       " 242,\n",
       " 243,\n",
       " 244,\n",
       " 245,\n",
       " 246,\n",
       " 247,\n",
       " 248,\n",
       " 249,\n",
       " 250,\n",
       " 251,\n",
       " 252,\n",
       " 253,\n",
       " 254,\n",
       " 255,\n",
       " 256,\n",
       " 257,\n",
       " 258,\n",
       " 259,\n",
       " 260,\n",
       " 261,\n",
       " 262,\n",
       " 263,\n",
       " 264,\n",
       " 265,\n",
       " 266,\n",
       " 267,\n",
       " 268,\n",
       " 269,\n",
       " 270,\n",
       " 271,\n",
       " 272,\n",
       " 273,\n",
       " 274,\n",
       " 275,\n",
       " 276,\n",
       " 277,\n",
       " 278,\n",
       " 279,\n",
       " 280,\n",
       " 281,\n",
       " 282,\n",
       " 283,\n",
       " 284,\n",
       " 285,\n",
       " 286,\n",
       " 287,\n",
       " 288,\n",
       " 289,\n",
       " 290,\n",
       " 291,\n",
       " 292,\n",
       " 293,\n",
       " 294,\n",
       " 295,\n",
       " 296,\n",
       " 297,\n",
       " 298,\n",
       " 299,\n",
       " 300,\n",
       " 301,\n",
       " 302,\n",
       " 303,\n",
       " 304,\n",
       " 305,\n",
       " 306,\n",
       " 307,\n",
       " 308,\n",
       " 309,\n",
       " 310,\n",
       " 311,\n",
       " 312,\n",
       " 313,\n",
       " 314,\n",
       " 315,\n",
       " 316,\n",
       " 317,\n",
       " 318,\n",
       " 319,\n",
       " 320,\n",
       " 321,\n",
       " 322,\n",
       " 323,\n",
       " 324,\n",
       " 325,\n",
       " 326,\n",
       " 327,\n",
       " 328,\n",
       " 329,\n",
       " 330,\n",
       " 331,\n",
       " 332,\n",
       " 333,\n",
       " 334,\n",
       " 335,\n",
       " 336,\n",
       " 337,\n",
       " 338,\n",
       " 339,\n",
       " 340,\n",
       " 341,\n",
       " 342,\n",
       " 343,\n",
       " 344,\n",
       " 345,\n",
       " 346,\n",
       " 347,\n",
       " 348,\n",
       " 349,\n",
       " 350,\n",
       " 351,\n",
       " 352,\n",
       " 353,\n",
       " 354,\n",
       " 355,\n",
       " 356,\n",
       " 357,\n",
       " 358,\n",
       " 359,\n",
       " 360,\n",
       " 361,\n",
       " 362,\n",
       " 363,\n",
       " 364,\n",
       " 365,\n",
       " 366,\n",
       " 367,\n",
       " 368,\n",
       " 369,\n",
       " 370,\n",
       " 371,\n",
       " 372,\n",
       " 373,\n",
       " 374,\n",
       " 375,\n",
       " 376,\n",
       " 377,\n",
       " 378,\n",
       " 379,\n",
       " 380,\n",
       " 381,\n",
       " 382,\n",
       " 383,\n",
       " 384,\n",
       " 385,\n",
       " 386,\n",
       " 387,\n",
       " 388,\n",
       " 389,\n",
       " 390,\n",
       " 391,\n",
       " 392,\n",
       " 393,\n",
       " 394,\n",
       " 395,\n",
       " 396,\n",
       " 397,\n",
       " 398,\n",
       " 399,\n",
       " 400,\n",
       " 401,\n",
       " 402,\n",
       " 403,\n",
       " 404,\n",
       " 405,\n",
       " 406,\n",
       " 407,\n",
       " 408,\n",
       " 409,\n",
       " 410,\n",
       " 411,\n",
       " 412,\n",
       " 413,\n",
       " 414,\n",
       " 415,\n",
       " 416,\n",
       " 417,\n",
       " 418,\n",
       " 419,\n",
       " 420,\n",
       " 421,\n",
       " 422,\n",
       " 423,\n",
       " 424,\n",
       " 425,\n",
       " 426,\n",
       " 427,\n",
       " 428,\n",
       " 429,\n",
       " 430,\n",
       " 431,\n",
       " 432,\n",
       " 433,\n",
       " 434,\n",
       " 435,\n",
       " 436,\n",
       " 437,\n",
       " 438,\n",
       " 439,\n",
       " 440,\n",
       " 441,\n",
       " 442,\n",
       " 443,\n",
       " 444,\n",
       " 445,\n",
       " 446,\n",
       " 447,\n",
       " 448,\n",
       " 449,\n",
       " 450,\n",
       " 451,\n",
       " 452,\n",
       " 453,\n",
       " 454,\n",
       " 455,\n",
       " 456,\n",
       " 457,\n",
       " 458,\n",
       " 459,\n",
       " 460,\n",
       " 461,\n",
       " 462,\n",
       " 463,\n",
       " 464,\n",
       " 465,\n",
       " 466,\n",
       " 467,\n",
       " 468,\n",
       " 469,\n",
       " 470,\n",
       " 471,\n",
       " 472,\n",
       " 473,\n",
       " 474,\n",
       " 475,\n",
       " 476,\n",
       " 477,\n",
       " 478,\n",
       " 479,\n",
       " 480,\n",
       " 481,\n",
       " 482,\n",
       " 483,\n",
       " 484,\n",
       " 485,\n",
       " 486,\n",
       " 487,\n",
       " 488,\n",
       " 489,\n",
       " 490,\n",
       " 491,\n",
       " 492,\n",
       " 493,\n",
       " 494,\n",
       " 495,\n",
       " 496,\n",
       " 497,\n",
       " 498,\n",
       " 499,\n",
       " 500,\n",
       " 501,\n",
       " 502,\n",
       " 503,\n",
       " 504,\n",
       " 505,\n",
       " 506,\n",
       " 507,\n",
       " 508,\n",
       " 509,\n",
       " 510,\n",
       " 511,\n",
       " 512,\n",
       " 513,\n",
       " 514,\n",
       " 515,\n",
       " 516,\n",
       " 517,\n",
       " 518,\n",
       " 519,\n",
       " 520,\n",
       " 521,\n",
       " 522,\n",
       " 523,\n",
       " 524,\n",
       " 525,\n",
       " 526,\n",
       " 527,\n",
       " 528,\n",
       " 529,\n",
       " 530,\n",
       " 531,\n",
       " 532,\n",
       " 533,\n",
       " 534,\n",
       " 535,\n",
       " 536,\n",
       " 537,\n",
       " 538,\n",
       " 539,\n",
       " 540,\n",
       " 541,\n",
       " 542,\n",
       " 543,\n",
       " 544,\n",
       " 545,\n",
       " 546,\n",
       " 547,\n",
       " 548,\n",
       " 549,\n",
       " 550,\n",
       " 551,\n",
       " 552,\n",
       " 553,\n",
       " 554,\n",
       " 555,\n",
       " 556,\n",
       " 557,\n",
       " 558,\n",
       " 559,\n",
       " 560,\n",
       " 561,\n",
       " 562,\n",
       " 563,\n",
       " 564,\n",
       " 565,\n",
       " 566,\n",
       " 567,\n",
       " 568,\n",
       " 569,\n",
       " 570,\n",
       " 571,\n",
       " 572,\n",
       " 573]"
      ]
     },
     "execution_count": 195,
     "metadata": {},
     "output_type": "execute_result"
    }
   ],
   "source": []
  },
  {
   "cell_type": "markdown",
   "metadata": {},
   "source": [
    "### ALT"
   ]
  },
  {
   "cell_type": "markdown",
   "metadata": {},
   "source": [
    "Fraction of Sales per Century"
   ]
  },
  {
   "cell_type": "code",
   "execution_count": 133,
   "metadata": {
    "collapsed": false
   },
   "outputs": [
    {
     "data": {
      "text/plain": [
       "'\\ndata_to_graph = data_cleaner[[\"Auction_No\", \"Date_Low\", \"Sold_For\"]]\\n\\ndef data_zero (a):\\n    if a > 0:\\n        return a\\n    else:\\n        return 0\\n\\ndata_to_graph[\"Cnt\"] = 1\\ndata_to_graph[\"Sold_For\"] = data_to_graph[\"Sold_For\"].apply(data_zero)\\ndata_to_graph = data_to_graph[data_to_graph[\"Sold_For\"] > 0].sort([\\'Auction_No\\', \\'Date_Low\\'], ascending=[1, 0])\\ndata_to_graph\\n'"
      ]
     },
     "execution_count": 133,
     "metadata": {},
     "output_type": "execute_result"
    }
   ],
   "source": [
    "\"\"\"\n",
    "data_to_graph = data_cleaner[[\"Auction_No\", \"Date_Low\", \"Sold_For\"]]\n",
    "\n",
    "def data_zero (a):\n",
    "    if a > 0:\n",
    "        return a\n",
    "    else:\n",
    "        return 0\n",
    "\n",
    "data_to_graph[\"Cnt\"] = 1\n",
    "data_to_graph[\"Sold_For\"] = data_to_graph[\"Sold_For\"].apply(data_zero)\n",
    "data_to_graph = data_to_graph[data_to_graph[\"Sold_For\"] > 0].sort(['Auction_No', 'Date_Low'], ascending=[1, 0])\n",
    "data_to_graph\n",
    "\"\"\""
   ]
  },
  {
   "cell_type": "code",
   "execution_count": 36,
   "metadata": {
    "collapsed": false
   },
   "outputs": [
    {
     "data": {
      "text/html": [
       "<div>\n",
       "<table border=\"1\" class=\"dataframe\">\n",
       "  <thead>\n",
       "    <tr style=\"text-align: right;\">\n",
       "      <th></th>\n",
       "      <th>Auction_No</th>\n",
       "      <th>Sold</th>\n",
       "      <th>Sold_For</th>\n",
       "      <th>Cnt</th>\n",
       "    </tr>\n",
       "  </thead>\n",
       "  <tbody>\n",
       "    <tr>\n",
       "      <th>0</th>\n",
       "      <td>116</td>\n",
       "      <td>1</td>\n",
       "      <td>427.966278</td>\n",
       "      <td>771</td>\n",
       "    </tr>\n",
       "    <tr>\n",
       "      <th>1</th>\n",
       "      <td>117</td>\n",
       "      <td>1</td>\n",
       "      <td>422.672021</td>\n",
       "      <td>747</td>\n",
       "    </tr>\n",
       "  </tbody>\n",
       "</table>\n",
       "</div>"
      ],
      "text/plain": [
       "   Auction_No  Sold    Sold_For  Cnt\n",
       "0         116     1  427.966278  771\n",
       "1         117     1  422.672021  747"
      ]
     },
     "execution_count": 36,
     "metadata": {},
     "output_type": "execute_result"
    }
   ],
   "source": [
    "data_to_graph_group = data_to_graph.groupby(['Auction_No'], as_index=False)\n",
    "data_to_graph_group_2 = data_to_graph_group.agg({\"Sold\" : np.mean, \"Sold_For\" : np.mean, \"Cnt\" : np.sum})\n",
    "data_to_graph_group_2.head(2)"
   ]
  },
  {
   "cell_type": "code",
   "execution_count": 132,
   "metadata": {
    "collapsed": false
   },
   "outputs": [
    {
     "data": {
      "text/plain": [
       "'\\ndata_to_graph_2 = data_cleaner[[\"Sold_For\", \"By\"]]\\ndata_to_graph_2 = data_to_graph_2[data_to_graph_2[\"Sold_For\"] > 0]\\ndata_to_graph_2 = data_to_graph_2[data_to_graph_2[\"By\"] !=\\'\\']\\ndata_to_graph_group_3 = data_to_graph_2.groupby([\\'By\\'], as_index=False)\\ndata_to_graph_group_3.size()\\n'"
      ]
     },
     "execution_count": 132,
     "metadata": {},
     "output_type": "execute_result"
    }
   ],
   "source": [
    "\"\"\"\n",
    "data_to_graph_2 = data_cleaner[[\"Sold_For\", \"By\"]]\n",
    "data_to_graph_2 = data_to_graph_2[data_to_graph_2[\"Sold_For\"] > 0]\n",
    "data_to_graph_2 = data_to_graph_2[data_to_graph_2[\"By\"] !='']\n",
    "data_to_graph_group_3 = data_to_graph_2.groupby(['By'], as_index=False)\n",
    "data_to_graph_group_3.size()\n",
    "\"\"\""
   ]
  },
  {
   "cell_type": "code",
   "execution_count": 38,
   "metadata": {
    "collapsed": false
   },
   "outputs": [
    {
     "data": {
      "text/plain": [
       "'from bokeh.charts import Bar, output_file, show, hplot\\n\\n#Bar Plots of sell rate and avg price\\ns1 = Bar(data_to_graph_group_2, label=\\'Auction_No\\', values=\\'Sold\\',  title=\"Sell Rate\", ylabel=\"Sell Rate\")\\ns2 = Bar(data_to_graph_group_2, label=\\'Auction_No\\', values=\\'Sold_For\\', title=\"Avg Price\",color=\"navy\", \\n        ylabel=\"Avg Price\")\\n\\noutput_file(\"test_owa_stacked_bar.html\")\\n\\n# put all the plots in an HBox\\np = hplot(s1, s2)\\n\\n# show the results\\nshow(p)\\n\\n'"
      ]
     },
     "execution_count": 38,
     "metadata": {},
     "output_type": "execute_result"
    }
   ],
   "source": [
    "\"\"\"from bokeh.charts import Bar, output_file, show, hplot\n",
    "\n",
    "#Bar Plots of sell rate and avg price\n",
    "s1 = Bar(data_to_graph_group_2, label='Auction_No', values='Sold',  title=\"Sell Rate\", ylabel=\"Sell Rate\")\n",
    "s2 = Bar(data_to_graph_group_2, label='Auction_No', values='Sold_For', title=\"Avg Price\",color=\"navy\", \n",
    "        ylabel=\"Avg Price\")\n",
    "\n",
    "output_file(\"test_owa_stacked_bar.html\")\n",
    "\n",
    "# put all the plots in an HBox\n",
    "p = hplot(s1, s2)\n",
    "\n",
    "# show the results\n",
    "show(p)\n",
    "\n",
    "\"\"\"\n",
    "\n",
    "\n"
   ]
  },
  {
   "cell_type": "code",
   "execution_count": null,
   "metadata": {
    "collapsed": true
   },
   "outputs": [],
   "source": []
  }
 ],
 "metadata": {
  "kernelspec": {
   "display_name": "Python 3",
   "language": "python",
   "name": "python3"
  },
  "language_info": {
   "codemirror_mode": {
    "name": "ipython",
    "version": 3
   },
   "file_extension": ".py",
   "mimetype": "text/x-python",
   "name": "python",
   "nbconvert_exporter": "python",
   "pygments_lexer": "ipython3",
   "version": "3.5.1"
  }
 },
 "nbformat": 4,
 "nbformat_minor": 0
}
